{
 "cells": [
  {
   "cell_type": "markdown",
   "metadata": {},
   "source": [
    "### Stock Market Prediction and Forecasting using LSTM (Long Short Term Memory)\n",
    "\n",
    "#### Using Keras and Tensorflow > 2.0"
   ]
  },
  {
   "cell_type": "code",
   "execution_count": 5,
   "metadata": {},
   "outputs": [],
   "source": [
    "## Data collection\n",
    "\n",
    "import pandas_datareader as pdr"
   ]
  },
  {
   "cell_type": "code",
   "execution_count": 6,
   "metadata": {},
   "outputs": [],
   "source": [
    "### Use tiingo to fetch Apple stock data\n",
    "\n",
    "df = pdr.get_data_tiingo('AAPL', api_key=\"ca39a7203877ffeae85cd3bf89ff533a986cc056\")"
   ]
  },
  {
   "cell_type": "code",
   "execution_count": 7,
   "metadata": {},
   "outputs": [],
   "source": [
    "### Since we only have 50 request a day, will write data frames to csv file first\n",
    "\n",
    "df.to_csv('AAPL.csv')"
   ]
  },
  {
   "cell_type": "code",
   "execution_count": 8,
   "metadata": {},
   "outputs": [],
   "source": [
    "import pandas as pd"
   ]
  },
  {
   "cell_type": "code",
   "execution_count": 9,
   "metadata": {},
   "outputs": [],
   "source": [
    "df = pd.read_csv('AAPL.csv')"
   ]
  },
  {
   "cell_type": "code",
   "execution_count": 10,
   "metadata": {},
   "outputs": [],
   "source": [
    "df1 = df.reset_index()['close']"
   ]
  },
  {
   "cell_type": "code",
   "execution_count": 11,
   "metadata": {},
   "outputs": [
    {
     "data": {
      "text/plain": [
       "1228    132.995\n",
       "1229    131.240\n",
       "1230    134.430\n",
       "1231    132.030\n",
       "1232    134.500\n",
       "1233    134.160\n",
       "1234    134.840\n",
       "1235    133.110\n",
       "1236    133.500\n",
       "1237    131.940\n",
       "1238    134.320\n",
       "1239    134.720\n",
       "1240    134.390\n",
       "1241    133.580\n",
       "1242    133.480\n",
       "1243    131.460\n",
       "1244    132.540\n",
       "1245    127.850\n",
       "1246    128.100\n",
       "1247    129.740\n",
       "1248    130.210\n",
       "1249    126.850\n",
       "1250    125.910\n",
       "1251    122.770\n",
       "1252    124.970\n",
       "1253    127.450\n",
       "1254    126.270\n",
       "1255    124.850\n",
       "1256    124.690\n",
       "Name: close, dtype: float64"
      ]
     },
     "execution_count": 11,
     "metadata": {},
     "output_type": "execute_result"
    }
   ],
   "source": [
    "df1[1228:]"
   ]
  },
  {
   "cell_type": "code",
   "execution_count": 12,
   "metadata": {},
   "outputs": [
    {
     "data": {
      "text/plain": [
       "(1257,)"
      ]
     },
     "execution_count": 12,
     "metadata": {},
     "output_type": "execute_result"
    }
   ],
   "source": [
    "df1.shape"
   ]
  },
  {
   "cell_type": "code",
   "execution_count": 13,
   "metadata": {},
   "outputs": [
    {
     "data": {
      "text/plain": [
       "0        96.43\n",
       "1        97.90\n",
       "2        99.62\n",
       "3       100.41\n",
       "4       100.35\n",
       "         ...  \n",
       "1252    124.97\n",
       "1253    127.45\n",
       "1254    126.27\n",
       "1255    124.85\n",
       "1256    124.69\n",
       "Name: close, Length: 1257, dtype: float64"
      ]
     },
     "execution_count": 13,
     "metadata": {},
     "output_type": "execute_result"
    }
   ],
   "source": [
    "df1"
   ]
  },
  {
   "cell_type": "code",
   "execution_count": 14,
   "metadata": {},
   "outputs": [
    {
     "data": {
      "text/plain": [
       "[<matplotlib.lines.Line2D at 0x1bbafc4c8e0>]"
      ]
     },
     "execution_count": 14,
     "metadata": {},
     "output_type": "execute_result"
    },
    {
     "data": {
      "image/png": "[encoded data removed]",
      "text/plain": [
       "<Figure size 432x288 with 1 Axes>"
      ]
     },
     "metadata": {
      "needs_background": "light"
     },
     "output_type": "display_data"
    }
   ],
   "source": [
    "import matplotlib.pyplot as plt\n",
    "plt.plot(df1)"
   ]
  },
  {
   "cell_type": "code",
   "execution_count": 15,
   "metadata": {},
   "outputs": [],
   "source": [
    "### LSTM are sensitive to the scale of the data. So we apply MinMax scaler"
   ]
  },
  {
   "cell_type": "code",
   "execution_count": 16,
   "metadata": {},
   "outputs": [],
   "source": [
    "import numpy as np"
   ]
  },
  {
   "cell_type": "code",
   "execution_count": 17,
   "metadata": {},
   "outputs": [],
   "source": [
    "from sklearn.preprocessing import MinMaxScaler"
   ]
  },
  {
   "cell_type": "code",
   "execution_count": 18,
   "metadata": {},
   "outputs": [],
   "source": [
    "scaler = MinMaxScaler(feature_range=(0,1))\n",
    "df1 = scaler.fit_transform(np.array(df1).reshape(-1, 1))"
   ]
  },
  {
   "cell_type": "code",
   "execution_count": 19,
   "metadata": {},
   "outputs": [
    {
     "data": {
      "text/plain": [
       "(1257, 1)"
      ]
     },
     "execution_count": 19,
     "metadata": {},
     "output_type": "execute_result"
    }
   ],
   "source": [
    "df1.shape"
   ]
  },
  {
   "cell_type": "code",
   "execution_count": 20,
   "metadata": {},
   "outputs": [
    {
     "data": {
      "text/plain": [
       "array([[0.01060258],\n",
       "       [0.01415288],\n",
       "       [0.01830697],\n",
       "       ...,\n",
       "       [0.08267117],\n",
       "       [0.07924164],\n",
       "       [0.07885521]])"
      ]
     },
     "execution_count": 20,
     "metadata": {},
     "output_type": "execute_result"
    }
   ],
   "source": [
    "df1"
   ]
  },
  {
   "cell_type": "code",
   "execution_count": 21,
   "metadata": {},
   "outputs": [],
   "source": [
    "### Splitting data set into train and test split\n",
    "training_size = int(len(df1) * 0.65)\n",
    "test_size = len(df1) - training_size\n",
    "train_data, test_data = df1[0:training_size,:],df1[training_size:len(df1), :1]"
   ]
  },
  {
   "cell_type": "code",
   "execution_count": 22,
   "metadata": {},
   "outputs": [
    {
     "data": {
      "text/plain": [
       "(817, 440)"
      ]
     },
     "execution_count": 22,
     "metadata": {},
     "output_type": "execute_result"
    }
   ],
   "source": [
    "training_size, test_size"
   ]
  },
  {
   "cell_type": "code",
   "execution_count": 23,
   "metadata": {},
   "outputs": [],
   "source": [
    "import numpy\n",
    "\n",
    "# Convert an array of values into a dataset matrix\n",
    "def create_dataset(dataset, time_step=1):\n",
    "    dataX, dataY = [], []\n",
    "    for i in range(len(dataset) - time_step - 1):\n",
    "        a = dataset[i : (i + time_step)] ### i = 0, 0,1,2,3\n",
    "        dataX.append(a)\n",
    "        dataY.append(dataset[i + time_step, 0])\n",
    "    return numpy.array(dataX), numpy.array(dataY)"
   ]
  },
  {
   "cell_type": "code",
   "execution_count": 24,
   "metadata": {},
   "outputs": [],
   "source": [
    "time_step = 100\n",
    "x_train, y_train = create_dataset(train_data, time_step)\n",
    "x_test, y_test = create_dataset(test_data, time_step)"
   ]
  },
  {
   "cell_type": "code",
   "execution_count": 25,
   "metadata": {},
   "outputs": [
    {
     "name": "stdout",
     "output_type": "stream",
     "text": [
      "[[[0.01060258]\n",
      "  [0.01415288]\n",
      "  [0.01830697]\n",
      "  ...\n",
      "  [0.05798817]\n",
      "  [0.05859196]\n",
      "  [0.06110373]]\n",
      "\n",
      " [[0.01415288]\n",
      "  [0.01830697]\n",
      "  [0.02021495]\n",
      "  ...\n",
      "  [0.05859196]\n",
      "  [0.06110373]\n",
      "  [0.06023427]]\n",
      "\n",
      " [[0.01830697]\n",
      "  [0.02021495]\n",
      "  [0.02007004]\n",
      "  ...\n",
      "  [0.06110373]\n",
      "  [0.06023427]\n",
      "  [0.06180413]]\n",
      "\n",
      " ...\n",
      "\n",
      " [[0.23354667]\n",
      "  [0.2288371 ]\n",
      "  [0.23289458]\n",
      "  ...\n",
      "  [0.26190074]\n",
      "  [0.28240551]\n",
      "  [0.26738317]]\n",
      "\n",
      " [[0.2288371 ]\n",
      "  [0.23289458]\n",
      "  [0.23349837]\n",
      "  ...\n",
      "  [0.28240551]\n",
      "  [0.26738317]\n",
      "  [0.26494385]]\n",
      "\n",
      " [[0.23289458]\n",
      "  [0.23349837]\n",
      "  [0.23646903]\n",
      "  ...\n",
      "  [0.26738317]\n",
      "  [0.26494385]\n",
      "  [0.27644004]]]\n",
      "[0.06023427 0.06180413 0.06161092 0.0614177  0.06057239 0.06042748\n",
      " 0.05931651 0.06185243 0.06330153 0.05687719 0.05419635 0.05236083\n",
      " 0.0519261  0.046975   0.04721652 0.04296583 0.04057481 0.04436662\n",
      " 0.04593648 0.04550175 0.03803888 0.03958459 0.03301534 0.03639657\n",
      " 0.04335225 0.04325565 0.04352131 0.04755464 0.0477237  0.04634706\n",
      " 0.04769955 0.04716822 0.04690255 0.04463229 0.04214467 0.04313489\n",
      " 0.0412269  0.04325565 0.04586403 0.04849656 0.05291631 0.05134646\n",
      " 0.05591112 0.05591112 0.05743268 0.05779495 0.05941311 0.06016182\n",
      " 0.06042748 0.05856781 0.05912329 0.06091052 0.05970293 0.05963048\n",
      " 0.05743268 0.05822968 0.05791571 0.05934066 0.06248038 0.06508876\n",
      " 0.06537858 0.06692428 0.0657167  0.06520952 0.06752808 0.06750392\n",
      " 0.06699674 0.06752808 0.06772129 0.06745562 0.07206859 0.0722135\n",
      " 0.07223765 0.0714648  0.07078855 0.08866079 0.08812945 0.08945779\n",
      " 0.09238015 0.09537495 0.09660669 0.09752445 0.0967999  0.09962565\n",
      " 0.10380389 0.10498732 0.10458882 0.10549451 0.10786137 0.10885159\n",
      " 0.10745079 0.10776476 0.10841686 0.10856177 0.11532424 0.11331965\n",
      " 0.11530008 0.11423741 0.11467214 0.11341625 0.1126434  0.11375438\n",
      " 0.11389929 0.1133921  0.1169424  0.11749789 0.11580727 0.11935757\n",
      " 0.11544499 0.11926096 0.11805338 0.11737713 0.11795677 0.12500906\n",
      " 0.12578191 0.12532303 0.12467093 0.12476754 0.12735177 0.12554039\n",
      " 0.12467093 0.12389808 0.1234875  0.11976814 0.12017872 0.11836735\n",
      " 0.12025118 0.11872962 0.11747374 0.12172443 0.12131385 0.12462263\n",
      " 0.12677213 0.12471924 0.12498491 0.12464678 0.13172322 0.13396933\n",
      " 0.1328825  0.13160246 0.13747132 0.14725275 0.14961961 0.14785654\n",
      " 0.149523   0.15471561 0.15374955 0.15319406 0.14058689 0.14611762\n",
      " 0.14737351 0.14961961 0.14916073 0.14804975 0.14932979 0.14870185\n",
      " 0.14884676 0.14664896 0.14766333 0.15314576 0.1494747  0.15073059\n",
      " 0.15295254 0.15203478 0.13751962 0.12892163 0.13174737 0.12829368\n",
      " 0.12619249 0.12131385 0.13114358 0.12793141 0.13000845 0.12942881\n",
      " 0.13099867 0.12988769 0.12484    0.12991185 0.12471924 0.12554039\n",
      " 0.12428451 0.12570946 0.12242483 0.12592682 0.12805217 0.1291873\n",
      " 0.12969448 0.13459727 0.13766453 0.13892042 0.14017631 0.14244656\n",
      " 0.14080425 0.14063519 0.14503079 0.14660065 0.14833957 0.14133559\n",
      " 0.13877551 0.13691583 0.14010385 0.15722739 0.15343558 0.15541601\n",
      " 0.16126072 0.16432798 0.16669484 0.15283178 0.15804854 0.16377249\n",
      " 0.16799903 0.16642918 0.15896631 0.15809685 0.15739645 0.16360343\n",
      " 0.16408646 0.16237169 0.16379664 0.16768506 0.1711629  0.17222558\n",
      " 0.17379544 0.17391619 0.16915831 0.16874774 0.16717788 0.16082599\n",
      " 0.16775752 0.16621181 0.16328946 0.15998068 0.16384495 0.16092259\n",
      " 0.1610675  0.15464316 0.14817051 0.14454776 0.14131144 0.14756672\n",
      " 0.15019925 0.14790484 0.14993358 0.14918488 0.15080304 0.14838788\n",
      " 0.15300085 0.15278348 0.15408767 0.15423258 0.15580244 0.1544741\n",
      " 0.15686511 0.16384495 0.16526989 0.16355513 0.15442579 0.15507789\n",
      " 0.15488468 0.15713078 0.15546432 0.15787948 0.17150103 0.18036469\n",
      " 0.18596788 0.18077527 0.18372177 0.19432436 0.1985509  0.19990339\n",
      " 0.20335708 0.20248762 0.19956527 0.19787465 0.19152276 0.18606448\n",
      " 0.19094312 0.18864871 0.18823814 0.19587006 0.20026567 0.20028982\n",
      " 0.19816447 0.195701   0.18703055 0.1927545  0.19082236 0.18780341\n",
      " 0.18741698 0.18589542 0.18664413 0.18676488 0.19473494 0.19239222\n",
      " 0.19376887 0.19364811 0.19787465 0.20379181 0.1992513  0.19879242\n",
      " 0.20038643 0.20038643 0.18966308 0.18973554 0.19089482 0.18642676\n",
      " 0.19374472 0.19367226 0.1956044  0.20036228 0.19879242 0.19874411\n",
      " 0.19864751 0.20103852 0.20540997 0.20323632 0.21026446 0.21065089\n",
      " 0.20871875 0.20519261 0.20528922 0.19847844 0.19096727 0.19193334\n",
      " 0.1833595  0.18096848 0.18207946 0.18292477 0.16534235 0.15565753\n",
      " 0.17145272 0.16302379 0.15242121 0.15546432 0.17067987 0.17461659\n",
      " 0.18193455 0.19550779 0.1941553  0.1927545  0.19087067 0.19432436\n",
      " 0.20156986 0.20995049 0.20854969 0.2078976  0.20036228 0.20328463\n",
      " 0.20475788 0.2043956  0.20043473 0.2050477  0.21238981 0.2165922\n",
      " 0.21236566 0.20867045 0.20917764 0.20765608 0.20108683 0.20094192\n",
      " 0.1913537  0.185509   0.17606569 0.19497645 0.18427726 0.17978505\n",
      " 0.18292477 0.18026808 0.18439802 0.19217486 0.19504891 0.18437387\n",
      " 0.1884072  0.19613573 0.19417945 0.19828523 0.19971018 0.20234271\n",
      " 0.20818742 0.20722135 0.19504891 0.17794952 0.17679024 0.17123536\n",
      " 0.17295013 0.17432677 0.16973795 0.17683855 0.18611279 0.20415409\n",
      " 0.20492694 0.2216882  0.22490037 0.22704987 0.23021374 0.23668639\n",
      " 0.2331844  0.23212172 0.22799179 0.23219418 0.22932013 0.22767782\n",
      " 0.23086584 0.22973071 0.23262891 0.23212172 0.23316025 0.23151793\n",
      " 0.23055187 0.22903031 0.23716942 0.24100954 0.24458399 0.24620215\n",
      " 0.24494626 0.24069557 0.23956044 0.24209637 0.2382804  0.23852192\n",
      " 0.23378819 0.23354667 0.22618041 0.2281367  0.22562492 0.22432073\n",
      " 0.21767902 0.2231373  0.22248521 0.22572153 0.22477962 0.22977901\n",
      " 0.22190557 0.22548001 0.23168699 0.23799058 0.23743509 0.23146963\n",
      " 0.23907741 0.23980196 0.23878759 0.24009178 0.23755585 0.2411303\n",
      " 0.24006762 0.2404782  0.24383529 0.24823089 0.24675764 0.23895665\n",
      " 0.23637242 0.23729018 0.26436421 0.27858954 0.28003864 0.28264702\n",
      " 0.2779133  0.27825142 0.28218814 0.27892767 0.28216399 0.28428934\n",
      " 0.28547277 0.29291148 0.3032001  0.29807994 0.29706557 0.29708972\n",
      " 0.2981524  0.29977056 0.30406956 0.30832025 0.316242   0.32119309\n",
      " 0.32747253 0.3292356  0.325637   0.31653182 0.31218452 0.30501147\n",
      " 0.3183432  0.31162903 0.32452602 0.31831904 0.30392465 0.30479411\n",
      " 0.30510808 0.30911726 0.30339331 0.31095278 0.31433402 0.31005917\n",
      " 0.32099988 0.32290786 0.32657892 0.33145755 0.33819587 0.32834199\n",
      " 0.31940587 0.31814998 0.325637   0.30025359 0.29564062 0.3141408\n",
      " 0.30266876 0.31423741 0.31191885 0.29943244 0.30737834 0.31061466\n",
      " 0.31563821 0.29718633 0.30856177 0.30010868 0.2903031  0.29286318\n",
      " 0.30629151 0.31440647 0.27880691 0.26458157 0.26984664 0.28477237\n",
      " 0.28124623 0.27153725 0.24666103 0.24197561 0.22886125 0.23999517\n",
      " 0.24511532 0.22659099 0.20514431 0.20466127 0.19381717 0.19944451\n",
      " 0.19852675 0.21470837 0.21135129 0.20900857 0.22407922 0.20444391\n",
      " 0.19968603 0.18463954 0.18732037 0.18497766 0.18611279 0.19058085\n",
      " 0.17736988 0.17365053 0.17879483 0.16628427 0.15647869 0.14174617\n",
      " 0.13232701 0.15729984 0.15483637 0.15502959 0.15867649 0.15911122\n",
      " 0.12112064 0.1357807  0.1349837  0.14179447 0.1479773  0.14916073\n",
      " 0.14551383 0.13998309 0.14739766 0.15191402 0.15413597 0.15645453\n",
      " 0.14795315 0.14945055 0.14650405 0.15872479 0.15519865 0.15128608\n",
      " 0.17681439 0.17968844 0.17988166 0.1913054  0.19838184 0.19852675\n",
      " 0.1905567  0.18927666 0.18690979 0.19043594 0.18872117 0.19021857\n",
      " 0.18930081 0.19053254 0.19318923 0.19084652 0.19545949 0.1985026\n",
      " 0.19874411 0.2000483  0.19589422 0.20028982 0.20241517 0.20164231\n",
      " 0.19920299 0.19432436 0.19531458 0.20978143 0.21463591 0.21656805\n",
      " 0.22144669 0.22721893 0.23180775 0.22820915 0.23214588 0.24888299\n",
      " 0.23912571 0.23354667 0.2288371  0.23289458 0.23349837 0.23646903\n",
      " 0.23958459 0.24629876 0.24951093 0.25033209 0.25349595 0.26098297\n",
      " 0.25953387 0.26223886 0.25820553 0.25801232 0.25888178 0.25893008\n",
      " 0.26830093 0.270064   0.27168216 0.27880691 0.27803405 0.27349354\n",
      " 0.27112668 0.27187538 0.26235962 0.28614902 0.28284024 0.28911967\n",
      " 0.28122207 0.26764883 0.26774544 0.26248038 0.25393068 0.22625287\n",
      " 0.23335346 0.23881174 0.236783   0.23417462 0.21990098 0.22837822\n",
      " 0.21915228 0.21161695 0.20995049 0.20816327 0.20611037 0.20833233\n",
      " 0.20053134 0.19625649 0.21156865 0.21857264 0.22504528 0.23695206\n",
      " 0.24282092 0.24820674 0.24670933 0.24661273 0.24320734 0.24598478\n",
      " 0.25699795 0.25559715 0.25943727 0.25779495 0.25731192 0.25004227\n",
      " 0.26025842 0.26011351 0.25571791 0.26448497 0.26733486 0.27139234\n",
      " 0.27095761 0.26078976 0.26373626 0.26854245 0.264968   0.26871151\n",
      " 0.27332448 0.27160971 0.26883227 0.2744113  0.26699674 0.27817896\n",
      " 0.28209153 0.28168096 0.27769593 0.27943485 0.28412028 0.28194662\n",
      " 0.29223524 0.28110132 0.27045043 0.24465644 0.25349595 0.2584229\n",
      " 0.26902548 0.26313247 0.26190074 0.28240551 0.26738317 0.26494385\n",
      " 0.27644004 0.28573844]\n"
     ]
    },
    {
     "data": {
      "text/plain": [
       "(None, None)"
      ]
     },
     "execution_count": 25,
     "metadata": {},
     "output_type": "execute_result"
    }
   ],
   "source": [
    "print(x_train), print(y_train)"
   ]
  },
  {
   "cell_type": "code",
   "execution_count": 26,
   "metadata": {},
   "outputs": [
    {
     "name": "stdout",
     "output_type": "stream",
     "text": [
      "(716, 100, 1)\n",
      "(716,)\n"
     ]
    },
    {
     "data": {
      "text/plain": [
       "(None, None)"
      ]
     },
     "execution_count": 26,
     "metadata": {},
     "output_type": "execute_result"
    }
   ],
   "source": [
    "print(x_train.shape), print(y_train.shape)"
   ]
  },
  {
   "cell_type": "code",
   "execution_count": 27,
   "metadata": {},
   "outputs": [
    {
     "name": "stdout",
     "output_type": "stream",
     "text": [
      "(339, 100, 1)\n",
      "(339,)\n"
     ]
    },
    {
     "data": {
      "text/plain": [
       "(None, None)"
      ]
     },
     "execution_count": 27,
     "metadata": {},
     "output_type": "execute_result"
    }
   ],
   "source": [
    "print(x_test.shape), print(y_test.shape)"
   ]
  },
  {
   "cell_type": "code",
   "execution_count": 28,
   "metadata": {},
   "outputs": [],
   "source": [
    "### Before implementing any kind of LSTM, x_train have to reshape to be [samples, time steps, features] which is required for LSTM\n",
    "x_train = x_train.reshape(x_train.shape[0], x_train.shape[1], 1)\n",
    "x_test = x_test.reshape(x_test.shape[0], x_test.shape[1], 1)"
   ]
  },
  {
   "cell_type": "code",
   "execution_count": 29,
   "metadata": {},
   "outputs": [],
   "source": [
    "### Create the stacked LSTM model\n",
    "from tensorflow.keras.models import Sequential\n",
    "from tensorflow.keras.layers import Dense\n",
    "from tensorflow.keras.layers import LSTM"
   ]
  },
  {
   "cell_type": "code",
   "execution_count": 30,
   "metadata": {},
   "outputs": [],
   "source": [
    "model = Sequential()\n",
    "model.add(LSTM(50, return_sequences=True, input_shape=(100,1)))\n",
    "model.add(LSTM(50, return_sequences=True))\n",
    "model.add(LSTM(50))\n",
    "model.add(Dense(1))\n",
    "model.compile(loss=\"mean_squared_error\", optimizer=\"adam\")"
   ]
  },
  {
   "cell_type": "code",
   "execution_count": 31,
   "metadata": {},
   "outputs": [
    {
     "name": "stdout",
     "output_type": "stream",
     "text": [
      "Model: \"sequential\"\n",
      "_________________________________________________________________\n",
      "Layer (type)                 Output Shape              Param #   \n",
      "=================================================================\n",
      "lstm (LSTM)                  (None, 100, 50)           10400     \n",
      "_________________________________________________________________\n",
      "lstm_1 (LSTM)                (None, 100, 50)           20200     \n",
      "_________________________________________________________________\n",
      "lstm_2 (LSTM)                (None, 50)                20200     \n",
      "_________________________________________________________________\n",
      "dense (Dense)                (None, 1)                 51        \n",
      "=================================================================\n",
      "Total params: 50,851\n",
      "Trainable params: 50,851\n",
      "Non-trainable params: 0\n",
      "_________________________________________________________________\n"
     ]
    }
   ],
   "source": [
    "model.summary()"
   ]
  },
  {
   "cell_type": "code",
   "execution_count": 32,
   "metadata": {},
   "outputs": [
    {
     "name": "stdout",
     "output_type": "stream",
     "text": [
      "Epoch 1/100\n",
      "12/12 [==============================] - 20s 563ms/step - loss: 0.0111 - val_loss: 0.0472\n",
      "Epoch 2/100\n",
      "12/12 [==============================] - 4s 324ms/step - loss: 0.0028 - val_loss: 0.0279\n",
      "Epoch 3/100\n",
      "12/12 [==============================] - 4s 308ms/step - loss: 0.0014 - val_loss: 0.0243\n",
      "Epoch 4/100\n",
      "12/12 [==============================] - 4s 309ms/step - loss: 6.4614e-04 - val_loss: 0.0192\n",
      "Epoch 5/100\n",
      "12/12 [==============================] - 4s 306ms/step - loss: 3.9973e-04 - val_loss: 0.0200\n",
      "Epoch 6/100\n",
      "12/12 [==============================] - 4s 308ms/step - loss: 4.0355e-04 - val_loss: 0.0182\n",
      "Epoch 7/100\n",
      "12/12 [==============================] - 4s 309ms/step - loss: 4.0951e-04 - val_loss: 0.0177\n",
      "Epoch 8/100\n",
      "12/12 [==============================] - 4s 311ms/step - loss: 3.7968e-04 - val_loss: 0.0173\n",
      "Epoch 9/100\n",
      "12/12 [==============================] - 4s 308ms/step - loss: 3.4348e-04 - val_loss: 0.0169\n",
      "Epoch 10/100\n",
      "12/12 [==============================] - 4s 310ms/step - loss: 3.3134e-04 - val_loss: 0.0164\n",
      "Epoch 11/100\n",
      "12/12 [==============================] - 4s 306ms/step - loss: 3.1822e-04 - val_loss: 0.0162\n",
      "Epoch 12/100\n",
      "12/12 [==============================] - 4s 307ms/step - loss: 3.1964e-04 - val_loss: 0.0155\n",
      "Epoch 13/100\n",
      "12/12 [==============================] - 4s 318ms/step - loss: 2.8890e-04 - val_loss: 0.0149\n",
      "Epoch 14/100\n",
      "12/12 [==============================] - 4s 324ms/step - loss: 2.7896e-04 - val_loss: 0.0143\n",
      "Epoch 15/100\n",
      "12/12 [==============================] - 4s 308ms/step - loss: 2.6196e-04 - val_loss: 0.0139\n",
      "Epoch 16/100\n",
      "12/12 [==============================] - 4s 313ms/step - loss: 2.5927e-04 - val_loss: 0.0135\n",
      "Epoch 17/100\n",
      "12/12 [==============================] - 4s 310ms/step - loss: 2.8515e-04 - val_loss: 0.0131\n",
      "Epoch 18/100\n",
      "12/12 [==============================] - 4s 320ms/step - loss: 2.6283e-04 - val_loss: 0.0129\n",
      "Epoch 19/100\n",
      "12/12 [==============================] - 4s 311ms/step - loss: 2.3316e-04 - val_loss: 0.0124\n",
      "Epoch 20/100\n",
      "12/12 [==============================] - 4s 307ms/step - loss: 2.4546e-04 - val_loss: 0.0122\n",
      "Epoch 21/100\n",
      "12/12 [==============================] - 4s 309ms/step - loss: 2.3420e-04 - val_loss: 0.0119\n",
      "Epoch 22/100\n",
      "12/12 [==============================] - 4s 309ms/step - loss: 2.6788e-04 - val_loss: 0.0124\n",
      "Epoch 23/100\n",
      "12/12 [==============================] - 4s 308ms/step - loss: 2.2139e-04 - val_loss: 0.0117\n",
      "Epoch 24/100\n",
      "12/12 [==============================] - 4s 311ms/step - loss: 2.1156e-04 - val_loss: 0.0114\n",
      "Epoch 25/100\n",
      "12/12 [==============================] - 4s 313ms/step - loss: 2.1903e-04 - val_loss: 0.0120\n",
      "Epoch 26/100\n",
      "12/12 [==============================] - 4s 316ms/step - loss: 2.1464e-04 - val_loss: 0.0119\n",
      "Epoch 27/100\n",
      "12/12 [==============================] - 4s 307ms/step - loss: 2.1789e-04 - val_loss: 0.0112\n",
      "Epoch 28/100\n",
      "12/12 [==============================] - 4s 311ms/step - loss: 2.0761e-04 - val_loss: 0.0120\n",
      "Epoch 29/100\n",
      "12/12 [==============================] - 4s 309ms/step - loss: 2.2940e-04 - val_loss: 0.0106\n",
      "Epoch 30/100\n",
      "12/12 [==============================] - 4s 309ms/step - loss: 2.2606e-04 - val_loss: 0.0129\n",
      "Epoch 31/100\n",
      "12/12 [==============================] - 4s 311ms/step - loss: 2.4680e-04 - val_loss: 0.0106\n",
      "Epoch 32/100\n",
      "12/12 [==============================] - 4s 313ms/step - loss: 2.0454e-04 - val_loss: 0.0103\n",
      "Epoch 33/100\n",
      "12/12 [==============================] - 4s 307ms/step - loss: 1.9513e-04 - val_loss: 0.0104\n",
      "Epoch 34/100\n",
      "12/12 [==============================] - 4s 311ms/step - loss: 1.9348e-04 - val_loss: 0.0105\n",
      "Epoch 35/100\n",
      "12/12 [==============================] - 4s 314ms/step - loss: 1.9426e-04 - val_loss: 0.0109\n",
      "Epoch 36/100\n",
      "12/12 [==============================] - 4s 310ms/step - loss: 1.8893e-04 - val_loss: 0.0111\n",
      "Epoch 37/100\n",
      "12/12 [==============================] - 4s 312ms/step - loss: 1.8154e-04 - val_loss: 0.0110\n",
      "Epoch 38/100\n",
      "12/12 [==============================] - 4s 310ms/step - loss: 1.8562e-04 - val_loss: 0.0098\n",
      "Epoch 39/100\n",
      "12/12 [==============================] - 4s 311ms/step - loss: 1.8729e-04 - val_loss: 0.0104\n",
      "Epoch 40/100\n",
      "12/12 [==============================] - 4s 310ms/step - loss: 1.8198e-04 - val_loss: 0.0118\n",
      "Epoch 41/100\n",
      "12/12 [==============================] - 4s 314ms/step - loss: 2.1180e-04 - val_loss: 0.0088\n",
      "Epoch 42/100\n",
      "12/12 [==============================] - 4s 313ms/step - loss: 2.6781e-04 - val_loss: 0.0101\n",
      "Epoch 43/100\n",
      "12/12 [==============================] - 4s 314ms/step - loss: 1.9142e-04 - val_loss: 0.0102\n",
      "Epoch 44/100\n",
      "12/12 [==============================] - 4s 312ms/step - loss: 2.0956e-04 - val_loss: 0.0089\n",
      "Epoch 45/100\n",
      "12/12 [==============================] - 4s 313ms/step - loss: 1.8309e-04 - val_loss: 0.0098\n",
      "Epoch 46/100\n",
      "12/12 [==============================] - 4s 312ms/step - loss: 1.7972e-04 - val_loss: 0.0091\n",
      "Epoch 47/100\n",
      "12/12 [==============================] - 4s 311ms/step - loss: 1.7981e-04 - val_loss: 0.0094\n",
      "Epoch 48/100\n",
      "12/12 [==============================] - 4s 337ms/step - loss: 1.7316e-04 - val_loss: 0.0092\n",
      "Epoch 49/100\n",
      "12/12 [==============================] - 4s 329ms/step - loss: 1.7868e-04 - val_loss: 0.0096\n",
      "Epoch 50/100\n",
      "12/12 [==============================] - 4s 311ms/step - loss: 1.7295e-04 - val_loss: 0.0086\n",
      "Epoch 51/100\n",
      "12/12 [==============================] - 4s 315ms/step - loss: 1.6747e-04 - val_loss: 0.0088\n",
      "Epoch 52/100\n",
      "12/12 [==============================] - 4s 312ms/step - loss: 1.5790e-04 - val_loss: 0.0092\n",
      "Epoch 53/100\n",
      "12/12 [==============================] - 4s 326ms/step - loss: 1.6215e-04 - val_loss: 0.0085\n",
      "Epoch 54/100\n",
      "12/12 [==============================] - 4s 313ms/step - loss: 1.5500e-04 - val_loss: 0.0084\n",
      "Epoch 55/100\n",
      "12/12 [==============================] - 4s 318ms/step - loss: 1.5156e-04 - val_loss: 0.0084\n",
      "Epoch 56/100\n",
      "12/12 [==============================] - 4s 313ms/step - loss: 1.5542e-04 - val_loss: 0.0092\n",
      "Epoch 57/100\n",
      "12/12 [==============================] - 4s 311ms/step - loss: 1.8996e-04 - val_loss: 0.0082\n",
      "Epoch 58/100\n",
      "12/12 [==============================] - 4s 314ms/step - loss: 1.5462e-04 - val_loss: 0.0082\n",
      "Epoch 59/100\n",
      "12/12 [==============================] - 4s 312ms/step - loss: 1.4815e-04 - val_loss: 0.0085\n",
      "Epoch 60/100\n",
      "12/12 [==============================] - 4s 349ms/step - loss: 1.4778e-04 - val_loss: 0.0085\n",
      "Epoch 61/100\n",
      "12/12 [==============================] - 4s 328ms/step - loss: 1.4987e-04 - val_loss: 0.0079\n",
      "Epoch 62/100\n",
      "12/12 [==============================] - 4s 309ms/step - loss: 1.5078e-04 - val_loss: 0.0089\n",
      "Epoch 63/100\n",
      "12/12 [==============================] - 4s 312ms/step - loss: 1.6496e-04 - val_loss: 0.0075\n",
      "Epoch 64/100\n",
      "12/12 [==============================] - 4s 315ms/step - loss: 1.5907e-04 - val_loss: 0.0082\n",
      "Epoch 65/100\n",
      "12/12 [==============================] - 4s 312ms/step - loss: 1.4382e-04 - val_loss: 0.0076\n",
      "Epoch 66/100\n",
      "12/12 [==============================] - 4s 310ms/step - loss: 1.3561e-04 - val_loss: 0.0079\n",
      "Epoch 67/100\n",
      "12/12 [==============================] - 4s 310ms/step - loss: 1.3626e-04 - val_loss: 0.0084\n",
      "Epoch 68/100\n",
      "12/12 [==============================] - 4s 310ms/step - loss: 1.3712e-04 - val_loss: 0.0076\n",
      "Epoch 69/100\n",
      "12/12 [==============================] - 4s 312ms/step - loss: 1.4014e-04 - val_loss: 0.0073\n",
      "Epoch 70/100\n",
      "12/12 [==============================] - 4s 315ms/step - loss: 1.2850e-04 - val_loss: 0.0082\n",
      "Epoch 71/100\n",
      "12/12 [==============================] - 4s 314ms/step - loss: 1.5261e-04 - val_loss: 0.0081\n",
      "Epoch 72/100\n",
      "12/12 [==============================] - 4s 311ms/step - loss: 1.5089e-04 - val_loss: 0.0070\n",
      "Epoch 73/100\n",
      "12/12 [==============================] - 4s 314ms/step - loss: 1.4066e-04 - val_loss: 0.0075\n",
      "Epoch 74/100\n",
      "12/12 [==============================] - 4s 313ms/step - loss: 1.2657e-04 - val_loss: 0.0069\n",
      "Epoch 75/100\n",
      "12/12 [==============================] - 4s 311ms/step - loss: 1.2322e-04 - val_loss: 0.0073\n",
      "Epoch 76/100\n",
      "12/12 [==============================] - 4s 310ms/step - loss: 1.1730e-04 - val_loss: 0.0069\n",
      "Epoch 77/100\n",
      "12/12 [==============================] - 4s 317ms/step - loss: 1.2598e-04 - val_loss: 0.0069\n",
      "Epoch 78/100\n"
     ]
    },
    {
     "name": "stdout",
     "output_type": "stream",
     "text": [
      "12/12 [==============================] - 4s 309ms/step - loss: 1.1627e-04 - val_loss: 0.0070\n",
      "Epoch 79/100\n",
      "12/12 [==============================] - 5s 443ms/step - loss: 1.2293e-04 - val_loss: 0.0065\n",
      "Epoch 80/100\n",
      "12/12 [==============================] - 5s 384ms/step - loss: 1.2091e-04 - val_loss: 0.0067\n",
      "Epoch 81/100\n",
      "12/12 [==============================] - 4s 338ms/step - loss: 1.1244e-04 - val_loss: 0.0066\n",
      "Epoch 82/100\n",
      "12/12 [==============================] - 190s 17s/step - loss: 1.1745e-04 - val_loss: 0.0077\n",
      "Epoch 83/100\n",
      "12/12 [==============================] - 4s 318ms/step - loss: 1.1464e-04 - val_loss: 0.0064\n",
      "Epoch 84/100\n",
      "12/12 [==============================] - 3s 281ms/step - loss: 1.1219e-04 - val_loss: 0.0061\n",
      "Epoch 85/100\n",
      "12/12 [==============================] - 4s 297ms/step - loss: 1.2140e-04 - val_loss: 0.0060\n",
      "Epoch 86/100\n",
      "12/12 [==============================] - 3s 286ms/step - loss: 1.1953e-04 - val_loss: 0.0074\n",
      "Epoch 87/100\n",
      "12/12 [==============================] - 3s 270ms/step - loss: 1.4126e-04 - val_loss: 0.0061\n",
      "Epoch 88/100\n",
      "12/12 [==============================] - 3s 286ms/step - loss: 1.0470e-04 - val_loss: 0.0061\n",
      "Epoch 89/100\n",
      "12/12 [==============================] - 3s 253ms/step - loss: 1.0313e-04 - val_loss: 0.0064\n",
      "Epoch 90/100\n",
      "12/12 [==============================] - 3s 291ms/step - loss: 1.0207e-04 - val_loss: 0.0061\n",
      "Epoch 91/100\n",
      "12/12 [==============================] - 3s 253ms/step - loss: 1.1277e-04 - val_loss: 0.0056\n",
      "Epoch 92/100\n",
      "12/12 [==============================] - 3s 237ms/step - loss: 1.1814e-04 - val_loss: 0.0057\n",
      "Epoch 93/100\n",
      "12/12 [==============================] - 3s 238ms/step - loss: 1.0887e-04 - val_loss: 0.0058\n",
      "Epoch 94/100\n",
      "12/12 [==============================] - 3s 241ms/step - loss: 9.9321e-05 - val_loss: 0.0061\n",
      "Epoch 95/100\n",
      "12/12 [==============================] - 3s 265ms/step - loss: 1.0935e-04 - val_loss: 0.0058\n",
      "Epoch 96/100\n",
      "12/12 [==============================] - 3s 263ms/step - loss: 1.1750e-04 - val_loss: 0.0059\n",
      "Epoch 97/100\n",
      "12/12 [==============================] - 3s 285ms/step - loss: 9.8523e-05 - val_loss: 0.0058\n",
      "Epoch 98/100\n",
      "12/12 [==============================] - 3s 274ms/step - loss: 9.7845e-05 - val_loss: 0.0056\n",
      "Epoch 99/100\n",
      "12/12 [==============================] - 3s 251ms/step - loss: 9.3654e-05 - val_loss: 0.0057\n",
      "Epoch 100/100\n",
      "12/12 [==============================] - 3s 235ms/step - loss: 9.5573e-05 - val_loss: 0.0060\n"
     ]
    },
    {
     "data": {
      "text/plain": [
       "<tensorflow.python.keras.callbacks.History at 0x1bbbacd3e50>"
      ]
     },
     "execution_count": 32,
     "metadata": {},
     "output_type": "execute_result"
    }
   ],
   "source": [
    "model.fit(x_train, y_train, validation_data=(x_test, y_test), epochs=100, batch_size=64, verbose=1)"
   ]
  },
  {
   "cell_type": "code",
   "execution_count": 33,
   "metadata": {},
   "outputs": [],
   "source": [
    "import tensorflow as tf"
   ]
  },
  {
   "cell_type": "code",
   "execution_count": 34,
   "metadata": {},
   "outputs": [
    {
     "data": {
      "text/plain": [
       "'2.5.0'"
      ]
     },
     "execution_count": 34,
     "metadata": {},
     "output_type": "execute_result"
    }
   ],
   "source": [
    "tf.__version__"
   ]
  },
  {
   "cell_type": "code",
   "execution_count": 37,
   "metadata": {},
   "outputs": [],
   "source": [
    "### Lets do the prediction and check performance matrics\n",
    "train_predict = model.predict(x_train)\n",
    "test_predict = model.predict(x_test)"
   ]
  },
  {
   "cell_type": "code",
   "execution_count": 78,
   "metadata": {},
   "outputs": [],
   "source": [
    "### Teansform to original form\n",
    "train_predict = scaler.inverse_transform(train_predict)\n",
    "test_predict = scaler.inverse_transform(test_predict)"
   ]
  },
  {
   "cell_type": "code",
   "execution_count": 79,
   "metadata": {},
   "outputs": [
    {
     "data": {
      "text/plain": [
       "333.20718305164746"
      ]
     },
     "execution_count": 79,
     "metadata": {},
     "output_type": "execute_result"
    }
   ],
   "source": [
    "import math\n",
    "from sklearn.metrics import mean_squared_error\n",
    "math.sqrt(mean_squared_error(y_train, train_predict))"
   ]
  },
  {
   "cell_type": "code",
   "execution_count": 80,
   "metadata": {},
   "outputs": [
    {
     "data": {
      "text/plain": [
       "255.69839145572496"
      ]
     },
     "execution_count": 80,
     "metadata": {},
     "output_type": "execute_result"
    }
   ],
   "source": [
    "### Test data RMSE\n",
    "math.sqrt(mean_squared_error(y_test, test_predict))"
   ]
  },
  {
   "cell_type": "code",
   "execution_count": 44,
   "metadata": {},
   "outputs": [
    {
     "data": {
      "image/png": "[encoded data removed]",
      "text/plain": [
       "<Figure size 432x288 with 1 Axes>"
      ]
     },
     "metadata": {
      "needs_background": "light"
     },
     "output_type": "display_data"
    }
   ],
   "source": [
    "### Plotting\n",
    "### Shift train prediction for plotting\n",
    "look_back = 100\n",
    "trainPredictPlot = numpy.empty_like(df1)\n",
    "trainPredictPlot[:, :] = np.nan\n",
    "trainPredictPlot[look_back : len(train_predict) + look_back, :] = train_predict\n",
    "### Shift test predictions for plotting\n",
    "testPredictPlot = numpy.empty_like(df1)\n",
    "testPredictPlot[:, :] = numpy.nan\n",
    "testPredictPlot[len(train_predict) + (look_back * 2)+1 : len(df1)-1, :] = test_predict\n",
    "# Plot baseline and prediction\n",
    "plt.plot(scaler.inverse_transform(df1))\n",
    "plt.plot(trainPredictPlot)\n",
    "plt.plot(testPredictPlot)\n",
    "plt.show()"
   ]
  },
  {
   "cell_type": "code",
   "execution_count": 45,
   "metadata": {},
   "outputs": [
    {
     "data": {
      "text/plain": [
       "440"
      ]
     },
     "execution_count": 45,
     "metadata": {},
     "output_type": "execute_result"
    }
   ],
   "source": [
    "len(test_data)"
   ]
  },
  {
   "cell_type": "code",
   "execution_count": 46,
   "metadata": {},
   "outputs": [
    {
     "data": {
      "text/plain": [
       "(1, 100)"
      ]
     },
     "execution_count": 46,
     "metadata": {},
     "output_type": "execute_result"
    }
   ],
   "source": [
    "x_input = test_data[len(test_data) - 100 : ].reshape(1, -1)\n",
    "x_input.shape"
   ]
  },
  {
   "cell_type": "code",
   "execution_count": 47,
   "metadata": {},
   "outputs": [],
   "source": [
    "x_input = test_data[len(test_data) - 100 : ].reshape(1, -1)"
   ]
  },
  {
   "cell_type": "code",
   "execution_count": 48,
   "metadata": {},
   "outputs": [
    {
     "data": {
      "text/plain": [
       "(1, 100)"
      ]
     },
     "execution_count": 48,
     "metadata": {},
     "output_type": "execute_result"
    }
   ],
   "source": [
    "x_input.shape"
   ]
  },
  {
   "cell_type": "code",
   "execution_count": 50,
   "metadata": {},
   "outputs": [],
   "source": [
    "temp_input = list(x_input)\n",
    "temp_input= temp_input[0].tolist()"
   ]
  },
  {
   "cell_type": "code",
   "execution_count": 51,
   "metadata": {},
   "outputs": [
    {
     "data": {
      "text/plain": [
       "[0.09643762830576016,\n",
       " 0.1078372177273276,\n",
       " 0.10344161333172322,\n",
       " 0.10066417099384131,\n",
       " 0.09817654872599926,\n",
       " 0.09025480014491002,\n",
       " 0.09411906774544135,\n",
       " 0.08346818017147686,\n",
       " 0.09390170269291145,\n",
       " 0.09663084168578676,\n",
       " 0.08921627822726722,\n",
       " 0.08878154812220748,\n",
       " 0.09382924767540149,\n",
       " 0.08904721651974398,\n",
       " 0.08477237048665617,\n",
       " 0.08643883588938531,\n",
       " 0.0965825383407801,\n",
       " 0.10827194783238739,\n",
       " 0.11358531578311795,\n",
       " 0.12288370969689646,\n",
       " 0.12346334983697618,\n",
       " 0.1208066658616109,\n",
       " 0.10880328462746044,\n",
       " 0.09641347663325686,\n",
       " 0.10167854123898076,\n",
       " 0.10373143340176308,\n",
       " 0.10119550778891437,\n",
       " 0.10952783480256004,\n",
       " 0.10800627943485083,\n",
       " 0.10836855452240066,\n",
       " 0.10619490399710177,\n",
       " 0.10469750030189587,\n",
       " 0.10406955681680954,\n",
       " 0.10464919695688926,\n",
       " 0.0993841323511653,\n",
       " 0.09370848931288492,\n",
       " 0.09097935032000967,\n",
       " 0.0913657770800628,\n",
       " 0.08201907982127762,\n",
       " 0.0816809564062311,\n",
       " 0.08044922110856176,\n",
       " 0.06991909189711384,\n",
       " 0.07057118705470353,\n",
       " 0.0863422291993721,\n",
       " 0.0798937326409854,\n",
       " 0.07250332085496922,\n",
       " 0.06784204806182828,\n",
       " 0.07095761381475665,\n",
       " 0.0587368675280763,\n",
       " 0.07014853278589542,\n",
       " 0.06747977297427846,\n",
       " 0.07226180412993596,\n",
       " 0.07001569858712717,\n",
       " 0.0771645936481101,\n",
       " 0.08098055790363481,\n",
       " 0.07902427243086582,\n",
       " 0.06880811496196113,\n",
       " 0.06750392464678176,\n",
       " 0.07571549329791086,\n",
       " 0.0736626011351286,\n",
       " 0.06774544137181501,\n",
       " 0.06895302499698105,\n",
       " 0.0704504286921869,\n",
       " 0.07088515879724669,\n",
       " 0.06728655959425192,\n",
       " 0.07272068590749911,\n",
       " 0.07477357807028137,\n",
       " 0.08177756309624443,\n",
       " 0.08252626494384732,\n",
       " 0.0866078975969086,\n",
       " 0.09254920903272554,\n",
       " 0.09891317473735059,\n",
       " 0.09467455621301776,\n",
       " 0.10237893974157711,\n",
       " 0.0965825383407801,\n",
       " 0.10254800144910034,\n",
       " 0.10172684458398742,\n",
       " 0.10336915831421326,\n",
       " 0.09919091897113877,\n",
       " 0.10013283419876826,\n",
       " 0.0963651732882502,\n",
       " 0.10211327134404055,\n",
       " 0.1030793382441734,\n",
       " 0.10228233305156378,\n",
       " 0.10032604757879485,\n",
       " 0.1000845308537616,\n",
       " 0.09520589300809082,\n",
       " 0.09781427363844944,\n",
       " 0.08648713923439197,\n",
       " 0.08709093104697499,\n",
       " 0.09105180533751964,\n",
       " 0.09218693394517571,\n",
       " 0.08407197198405988,\n",
       " 0.08180171476874773,\n",
       " 0.07421808960270496,\n",
       " 0.07953145755343557,\n",
       " 0.08552107233425918,\n",
       " 0.08267117497886725,\n",
       " 0.07924163748339572,\n",
       " 0.07885521072334259]"
      ]
     },
     "execution_count": 51,
     "metadata": {},
     "output_type": "execute_result"
    }
   ],
   "source": [
    "temp_input"
   ]
  },
  {
   "cell_type": "code",
   "execution_count": 52,
   "metadata": {},
   "outputs": [
    {
     "name": "stdout",
     "output_type": "stream",
     "text": [
      "[0.08648189]\n",
      "101\n",
      "1 day input [0.10783722 0.10344161 0.10066417 0.09817655 0.0902548  0.09411907\n",
      " 0.08346818 0.0939017  0.09663084 0.08921628 0.08878155 0.09382925\n",
      " 0.08904722 0.08477237 0.08643884 0.09658254 0.10827195 0.11358532\n",
      " 0.12288371 0.12346335 0.12080667 0.10880328 0.09641348 0.10167854\n",
      " 0.10373143 0.10119551 0.10952783 0.10800628 0.10836855 0.1061949\n",
      " 0.1046975  0.10406956 0.1046492  0.09938413 0.09370849 0.09097935\n",
      " 0.09136578 0.08201908 0.08168096 0.08044922 0.06991909 0.07057119\n",
      " 0.08634223 0.07989373 0.07250332 0.06784205 0.07095761 0.05873687\n",
      " 0.07014853 0.06747977 0.0722618  0.0700157  0.07716459 0.08098056\n",
      " 0.07902427 0.06880811 0.06750392 0.07571549 0.0736626  0.06774544\n",
      " 0.06895302 0.07045043 0.07088516 0.06728656 0.07272069 0.07477358\n",
      " 0.08177756 0.08252626 0.0866079  0.09254921 0.09891317 0.09467456\n",
      " 0.10237894 0.09658254 0.102548   0.10172684 0.10336916 0.09919092\n",
      " 0.10013283 0.09636517 0.10211327 0.10307934 0.10228233 0.10032605\n",
      " 0.10008453 0.09520589 0.09781427 0.08648714 0.08709093 0.09105181\n",
      " 0.09218693 0.08407197 0.08180171 0.07421809 0.07953146 0.08552107\n",
      " 0.08267117 0.07924164 0.07885521 0.08648189]\n",
      "1 day output [[0.08694247]]\n",
      "2 day input [0.10344161 0.10066417 0.09817655 0.0902548  0.09411907 0.08346818\n",
      " 0.0939017  0.09663084 0.08921628 0.08878155 0.09382925 0.08904722\n",
      " 0.08477237 0.08643884 0.09658254 0.10827195 0.11358532 0.12288371\n",
      " 0.12346335 0.12080667 0.10880328 0.09641348 0.10167854 0.10373143\n",
      " 0.10119551 0.10952783 0.10800628 0.10836855 0.1061949  0.1046975\n",
      " 0.10406956 0.1046492  0.09938413 0.09370849 0.09097935 0.09136578\n",
      " 0.08201908 0.08168096 0.08044922 0.06991909 0.07057119 0.08634223\n",
      " 0.07989373 0.07250332 0.06784205 0.07095761 0.05873687 0.07014853\n",
      " 0.06747977 0.0722618  0.0700157  0.07716459 0.08098056 0.07902427\n",
      " 0.06880811 0.06750392 0.07571549 0.0736626  0.06774544 0.06895302\n",
      " 0.07045043 0.07088516 0.06728656 0.07272069 0.07477358 0.08177756\n",
      " 0.08252626 0.0866079  0.09254921 0.09891317 0.09467456 0.10237894\n",
      " 0.09658254 0.102548   0.10172684 0.10336916 0.09919092 0.10013283\n",
      " 0.09636517 0.10211327 0.10307934 0.10228233 0.10032605 0.10008453\n",
      " 0.09520589 0.09781427 0.08648714 0.08709093 0.09105181 0.09218693\n",
      " 0.08407197 0.08180171 0.07421809 0.07953146 0.08552107 0.08267117\n",
      " 0.07924164 0.07885521 0.08648189 0.08694247]\n",
      "2 day output [[0.08799737]]\n",
      "3 day input [0.10066417 0.09817655 0.0902548  0.09411907 0.08346818 0.0939017\n",
      " 0.09663084 0.08921628 0.08878155 0.09382925 0.08904722 0.08477237\n",
      " 0.08643884 0.09658254 0.10827195 0.11358532 0.12288371 0.12346335\n",
      " 0.12080667 0.10880328 0.09641348 0.10167854 0.10373143 0.10119551\n",
      " 0.10952783 0.10800628 0.10836855 0.1061949  0.1046975  0.10406956\n",
      " 0.1046492  0.09938413 0.09370849 0.09097935 0.09136578 0.08201908\n",
      " 0.08168096 0.08044922 0.06991909 0.07057119 0.08634223 0.07989373\n",
      " 0.07250332 0.06784205 0.07095761 0.05873687 0.07014853 0.06747977\n",
      " 0.0722618  0.0700157  0.07716459 0.08098056 0.07902427 0.06880811\n",
      " 0.06750392 0.07571549 0.0736626  0.06774544 0.06895302 0.07045043\n",
      " 0.07088516 0.06728656 0.07272069 0.07477358 0.08177756 0.08252626\n",
      " 0.0866079  0.09254921 0.09891317 0.09467456 0.10237894 0.09658254\n",
      " 0.102548   0.10172684 0.10336916 0.09919092 0.10013283 0.09636517\n",
      " 0.10211327 0.10307934 0.10228233 0.10032605 0.10008453 0.09520589\n",
      " 0.09781427 0.08648714 0.08709093 0.09105181 0.09218693 0.08407197\n",
      " 0.08180171 0.07421809 0.07953146 0.08552107 0.08267117 0.07924164\n",
      " 0.07885521 0.08648189 0.08694247 0.08799737]\n",
      "3 day output [[0.08942462]]\n",
      "4 day input [0.09817655 0.0902548  0.09411907 0.08346818 0.0939017  0.09663084\n",
      " 0.08921628 0.08878155 0.09382925 0.08904722 0.08477237 0.08643884\n",
      " 0.09658254 0.10827195 0.11358532 0.12288371 0.12346335 0.12080667\n",
      " 0.10880328 0.09641348 0.10167854 0.10373143 0.10119551 0.10952783\n",
      " 0.10800628 0.10836855 0.1061949  0.1046975  0.10406956 0.1046492\n",
      " 0.09938413 0.09370849 0.09097935 0.09136578 0.08201908 0.08168096\n",
      " 0.08044922 0.06991909 0.07057119 0.08634223 0.07989373 0.07250332\n",
      " 0.06784205 0.07095761 0.05873687 0.07014853 0.06747977 0.0722618\n",
      " 0.0700157  0.07716459 0.08098056 0.07902427 0.06880811 0.06750392\n",
      " 0.07571549 0.0736626  0.06774544 0.06895302 0.07045043 0.07088516\n",
      " 0.06728656 0.07272069 0.07477358 0.08177756 0.08252626 0.0866079\n",
      " 0.09254921 0.09891317 0.09467456 0.10237894 0.09658254 0.102548\n",
      " 0.10172684 0.10336916 0.09919092 0.10013283 0.09636517 0.10211327\n",
      " 0.10307934 0.10228233 0.10032605 0.10008453 0.09520589 0.09781427\n",
      " 0.08648714 0.08709093 0.09105181 0.09218693 0.08407197 0.08180171\n",
      " 0.07421809 0.07953146 0.08552107 0.08267117 0.07924164 0.07885521\n",
      " 0.08648189 0.08694247 0.08799737 0.08942462]\n",
      "4 day output [[0.09099818]]\n",
      "5 day input [0.0902548  0.09411907 0.08346818 0.0939017  0.09663084 0.08921628\n",
      " 0.08878155 0.09382925 0.08904722 0.08477237 0.08643884 0.09658254\n",
      " 0.10827195 0.11358532 0.12288371 0.12346335 0.12080667 0.10880328\n",
      " 0.09641348 0.10167854 0.10373143 0.10119551 0.10952783 0.10800628\n",
      " 0.10836855 0.1061949  0.1046975  0.10406956 0.1046492  0.09938413\n",
      " 0.09370849 0.09097935 0.09136578 0.08201908 0.08168096 0.08044922\n",
      " 0.06991909 0.07057119 0.08634223 0.07989373 0.07250332 0.06784205\n",
      " 0.07095761 0.05873687 0.07014853 0.06747977 0.0722618  0.0700157\n",
      " 0.07716459 0.08098056 0.07902427 0.06880811 0.06750392 0.07571549\n",
      " 0.0736626  0.06774544 0.06895302 0.07045043 0.07088516 0.06728656\n",
      " 0.07272069 0.07477358 0.08177756 0.08252626 0.0866079  0.09254921\n",
      " 0.09891317 0.09467456 0.10237894 0.09658254 0.102548   0.10172684\n",
      " 0.10336916 0.09919092 0.10013283 0.09636517 0.10211327 0.10307934\n",
      " 0.10228233 0.10032605 0.10008453 0.09520589 0.09781427 0.08648714\n",
      " 0.08709093 0.09105181 0.09218693 0.08407197 0.08180171 0.07421809\n",
      " 0.07953146 0.08552107 0.08267117 0.07924164 0.07885521 0.08648189\n",
      " 0.08694247 0.08799737 0.08942462 0.09099818]\n",
      "5 day output [[0.09256595]]\n",
      "6 day input [0.09411907 0.08346818 0.0939017  0.09663084 0.08921628 0.08878155\n",
      " 0.09382925 0.08904722 0.08477237 0.08643884 0.09658254 0.10827195\n",
      " 0.11358532 0.12288371 0.12346335 0.12080667 0.10880328 0.09641348\n",
      " 0.10167854 0.10373143 0.10119551 0.10952783 0.10800628 0.10836855\n",
      " 0.1061949  0.1046975  0.10406956 0.1046492  0.09938413 0.09370849\n",
      " 0.09097935 0.09136578 0.08201908 0.08168096 0.08044922 0.06991909\n",
      " 0.07057119 0.08634223 0.07989373 0.07250332 0.06784205 0.07095761\n",
      " 0.05873687 0.07014853 0.06747977 0.0722618  0.0700157  0.07716459\n",
      " 0.08098056 0.07902427 0.06880811 0.06750392 0.07571549 0.0736626\n",
      " 0.06774544 0.06895302 0.07045043 0.07088516 0.06728656 0.07272069\n",
      " 0.07477358 0.08177756 0.08252626 0.0866079  0.09254921 0.09891317\n",
      " 0.09467456 0.10237894 0.09658254 0.102548   0.10172684 0.10336916\n",
      " 0.09919092 0.10013283 0.09636517 0.10211327 0.10307934 0.10228233\n",
      " 0.10032605 0.10008453 0.09520589 0.09781427 0.08648714 0.08709093\n",
      " 0.09105181 0.09218693 0.08407197 0.08180171 0.07421809 0.07953146\n",
      " 0.08552107 0.08267117 0.07924164 0.07885521 0.08648189 0.08694247\n",
      " 0.08799737 0.08942462 0.09099818 0.09256595]\n",
      "6 day output [[0.09405158]]\n",
      "7 day input [0.08346818 0.0939017  0.09663084 0.08921628 0.08878155 0.09382925\n",
      " 0.08904722 0.08477237 0.08643884 0.09658254 0.10827195 0.11358532\n",
      " 0.12288371 0.12346335 0.12080667 0.10880328 0.09641348 0.10167854\n",
      " 0.10373143 0.10119551 0.10952783 0.10800628 0.10836855 0.1061949\n",
      " 0.1046975  0.10406956 0.1046492  0.09938413 0.09370849 0.09097935\n",
      " 0.09136578 0.08201908 0.08168096 0.08044922 0.06991909 0.07057119\n",
      " 0.08634223 0.07989373 0.07250332 0.06784205 0.07095761 0.05873687\n",
      " 0.07014853 0.06747977 0.0722618  0.0700157  0.07716459 0.08098056\n",
      " 0.07902427 0.06880811 0.06750392 0.07571549 0.0736626  0.06774544\n",
      " 0.06895302 0.07045043 0.07088516 0.06728656 0.07272069 0.07477358\n",
      " 0.08177756 0.08252626 0.0866079  0.09254921 0.09891317 0.09467456\n",
      " 0.10237894 0.09658254 0.102548   0.10172684 0.10336916 0.09919092\n",
      " 0.10013283 0.09636517 0.10211327 0.10307934 0.10228233 0.10032605\n",
      " 0.10008453 0.09520589 0.09781427 0.08648714 0.08709093 0.09105181\n",
      " 0.09218693 0.08407197 0.08180171 0.07421809 0.07953146 0.08552107\n",
      " 0.08267117 0.07924164 0.07885521 0.08648189 0.08694247 0.08799737\n",
      " 0.08942462 0.09099818 0.09256595 0.09405158]\n",
      "7 day output [[0.09543107]]\n",
      "8 day input [0.0939017  0.09663084 0.08921628 0.08878155 0.09382925 0.08904722\n",
      " 0.08477237 0.08643884 0.09658254 0.10827195 0.11358532 0.12288371\n",
      " 0.12346335 0.12080667 0.10880328 0.09641348 0.10167854 0.10373143\n",
      " 0.10119551 0.10952783 0.10800628 0.10836855 0.1061949  0.1046975\n",
      " 0.10406956 0.1046492  0.09938413 0.09370849 0.09097935 0.09136578\n",
      " 0.08201908 0.08168096 0.08044922 0.06991909 0.07057119 0.08634223\n",
      " 0.07989373 0.07250332 0.06784205 0.07095761 0.05873687 0.07014853\n",
      " 0.06747977 0.0722618  0.0700157  0.07716459 0.08098056 0.07902427\n",
      " 0.06880811 0.06750392 0.07571549 0.0736626  0.06774544 0.06895302\n",
      " 0.07045043 0.07088516 0.06728656 0.07272069 0.07477358 0.08177756\n",
      " 0.08252626 0.0866079  0.09254921 0.09891317 0.09467456 0.10237894\n",
      " 0.09658254 0.102548   0.10172684 0.10336916 0.09919092 0.10013283\n",
      " 0.09636517 0.10211327 0.10307934 0.10228233 0.10032605 0.10008453\n",
      " 0.09520589 0.09781427 0.08648714 0.08709093 0.09105181 0.09218693\n",
      " 0.08407197 0.08180171 0.07421809 0.07953146 0.08552107 0.08267117\n",
      " 0.07924164 0.07885521 0.08648189 0.08694247 0.08799737 0.08942462\n",
      " 0.09099818 0.09256595 0.09405158 0.09543107]\n",
      "8 day output [[0.09670884]]\n",
      "9 day input [0.09663084 0.08921628 0.08878155 0.09382925 0.08904722 0.08477237\n",
      " 0.08643884 0.09658254 0.10827195 0.11358532 0.12288371 0.12346335\n",
      " 0.12080667 0.10880328 0.09641348 0.10167854 0.10373143 0.10119551\n",
      " 0.10952783 0.10800628 0.10836855 0.1061949  0.1046975  0.10406956\n",
      " 0.1046492  0.09938413 0.09370849 0.09097935 0.09136578 0.08201908\n",
      " 0.08168096 0.08044922 0.06991909 0.07057119 0.08634223 0.07989373\n",
      " 0.07250332 0.06784205 0.07095761 0.05873687 0.07014853 0.06747977\n",
      " 0.0722618  0.0700157  0.07716459 0.08098056 0.07902427 0.06880811\n",
      " 0.06750392 0.07571549 0.0736626  0.06774544 0.06895302 0.07045043\n",
      " 0.07088516 0.06728656 0.07272069 0.07477358 0.08177756 0.08252626\n",
      " 0.0866079  0.09254921 0.09891317 0.09467456 0.10237894 0.09658254\n",
      " 0.102548   0.10172684 0.10336916 0.09919092 0.10013283 0.09636517\n",
      " 0.10211327 0.10307934 0.10228233 0.10032605 0.10008453 0.09520589\n",
      " 0.09781427 0.08648714 0.08709093 0.09105181 0.09218693 0.08407197\n",
      " 0.08180171 0.07421809 0.07953146 0.08552107 0.08267117 0.07924164\n",
      " 0.07885521 0.08648189 0.08694247 0.08799737 0.08942462 0.09099818\n",
      " 0.09256595 0.09405158 0.09543107 0.09670884]\n"
     ]
    },
    {
     "name": "stdout",
     "output_type": "stream",
     "text": [
      "9 day output [[0.09790178]]\n",
      "10 day input [0.08921628 0.08878155 0.09382925 0.08904722 0.08477237 0.08643884\n",
      " 0.09658254 0.10827195 0.11358532 0.12288371 0.12346335 0.12080667\n",
      " 0.10880328 0.09641348 0.10167854 0.10373143 0.10119551 0.10952783\n",
      " 0.10800628 0.10836855 0.1061949  0.1046975  0.10406956 0.1046492\n",
      " 0.09938413 0.09370849 0.09097935 0.09136578 0.08201908 0.08168096\n",
      " 0.08044922 0.06991909 0.07057119 0.08634223 0.07989373 0.07250332\n",
      " 0.06784205 0.07095761 0.05873687 0.07014853 0.06747977 0.0722618\n",
      " 0.0700157  0.07716459 0.08098056 0.07902427 0.06880811 0.06750392\n",
      " 0.07571549 0.0736626  0.06774544 0.06895302 0.07045043 0.07088516\n",
      " 0.06728656 0.07272069 0.07477358 0.08177756 0.08252626 0.0866079\n",
      " 0.09254921 0.09891317 0.09467456 0.10237894 0.09658254 0.102548\n",
      " 0.10172684 0.10336916 0.09919092 0.10013283 0.09636517 0.10211327\n",
      " 0.10307934 0.10228233 0.10032605 0.10008453 0.09520589 0.09781427\n",
      " 0.08648714 0.08709093 0.09105181 0.09218693 0.08407197 0.08180171\n",
      " 0.07421809 0.07953146 0.08552107 0.08267117 0.07924164 0.07885521\n",
      " 0.08648189 0.08694247 0.08799737 0.08942462 0.09099818 0.09256595\n",
      " 0.09405158 0.09543107 0.09670884 0.09790178]\n",
      "10 day output [[0.09903043]]\n",
      "11 day input [0.08878155 0.09382925 0.08904722 0.08477237 0.08643884 0.09658254\n",
      " 0.10827195 0.11358532 0.12288371 0.12346335 0.12080667 0.10880328\n",
      " 0.09641348 0.10167854 0.10373143 0.10119551 0.10952783 0.10800628\n",
      " 0.10836855 0.1061949  0.1046975  0.10406956 0.1046492  0.09938413\n",
      " 0.09370849 0.09097935 0.09136578 0.08201908 0.08168096 0.08044922\n",
      " 0.06991909 0.07057119 0.08634223 0.07989373 0.07250332 0.06784205\n",
      " 0.07095761 0.05873687 0.07014853 0.06747977 0.0722618  0.0700157\n",
      " 0.07716459 0.08098056 0.07902427 0.06880811 0.06750392 0.07571549\n",
      " 0.0736626  0.06774544 0.06895302 0.07045043 0.07088516 0.06728656\n",
      " 0.07272069 0.07477358 0.08177756 0.08252626 0.0866079  0.09254921\n",
      " 0.09891317 0.09467456 0.10237894 0.09658254 0.102548   0.10172684\n",
      " 0.10336916 0.09919092 0.10013283 0.09636517 0.10211327 0.10307934\n",
      " 0.10228233 0.10032605 0.10008453 0.09520589 0.09781427 0.08648714\n",
      " 0.08709093 0.09105181 0.09218693 0.08407197 0.08180171 0.07421809\n",
      " 0.07953146 0.08552107 0.08267117 0.07924164 0.07885521 0.08648189\n",
      " 0.08694247 0.08799737 0.08942462 0.09099818 0.09256595 0.09405158\n",
      " 0.09543107 0.09670884 0.09790178 0.09903043]\n",
      "11 day output [[0.10011539]]\n",
      "12 day input [0.09382925 0.08904722 0.08477237 0.08643884 0.09658254 0.10827195\n",
      " 0.11358532 0.12288371 0.12346335 0.12080667 0.10880328 0.09641348\n",
      " 0.10167854 0.10373143 0.10119551 0.10952783 0.10800628 0.10836855\n",
      " 0.1061949  0.1046975  0.10406956 0.1046492  0.09938413 0.09370849\n",
      " 0.09097935 0.09136578 0.08201908 0.08168096 0.08044922 0.06991909\n",
      " 0.07057119 0.08634223 0.07989373 0.07250332 0.06784205 0.07095761\n",
      " 0.05873687 0.07014853 0.06747977 0.0722618  0.0700157  0.07716459\n",
      " 0.08098056 0.07902427 0.06880811 0.06750392 0.07571549 0.0736626\n",
      " 0.06774544 0.06895302 0.07045043 0.07088516 0.06728656 0.07272069\n",
      " 0.07477358 0.08177756 0.08252626 0.0866079  0.09254921 0.09891317\n",
      " 0.09467456 0.10237894 0.09658254 0.102548   0.10172684 0.10336916\n",
      " 0.09919092 0.10013283 0.09636517 0.10211327 0.10307934 0.10228233\n",
      " 0.10032605 0.10008453 0.09520589 0.09781427 0.08648714 0.08709093\n",
      " 0.09105181 0.09218693 0.08407197 0.08180171 0.07421809 0.07953146\n",
      " 0.08552107 0.08267117 0.07924164 0.07885521 0.08648189 0.08694247\n",
      " 0.08799737 0.08942462 0.09099818 0.09256595 0.09405158 0.09543107\n",
      " 0.09670884 0.09790178 0.09903043 0.10011539]\n",
      "12 day output [[0.10117562]]\n",
      "13 day input [0.08904722 0.08477237 0.08643884 0.09658254 0.10827195 0.11358532\n",
      " 0.12288371 0.12346335 0.12080667 0.10880328 0.09641348 0.10167854\n",
      " 0.10373143 0.10119551 0.10952783 0.10800628 0.10836855 0.1061949\n",
      " 0.1046975  0.10406956 0.1046492  0.09938413 0.09370849 0.09097935\n",
      " 0.09136578 0.08201908 0.08168096 0.08044922 0.06991909 0.07057119\n",
      " 0.08634223 0.07989373 0.07250332 0.06784205 0.07095761 0.05873687\n",
      " 0.07014853 0.06747977 0.0722618  0.0700157  0.07716459 0.08098056\n",
      " 0.07902427 0.06880811 0.06750392 0.07571549 0.0736626  0.06774544\n",
      " 0.06895302 0.07045043 0.07088516 0.06728656 0.07272069 0.07477358\n",
      " 0.08177756 0.08252626 0.0866079  0.09254921 0.09891317 0.09467456\n",
      " 0.10237894 0.09658254 0.102548   0.10172684 0.10336916 0.09919092\n",
      " 0.10013283 0.09636517 0.10211327 0.10307934 0.10228233 0.10032605\n",
      " 0.10008453 0.09520589 0.09781427 0.08648714 0.08709093 0.09105181\n",
      " 0.09218693 0.08407197 0.08180171 0.07421809 0.07953146 0.08552107\n",
      " 0.08267117 0.07924164 0.07885521 0.08648189 0.08694247 0.08799737\n",
      " 0.08942462 0.09099818 0.09256595 0.09405158 0.09543107 0.09670884\n",
      " 0.09790178 0.09903043 0.10011539 0.10117562]\n",
      "13 day output [[0.10222796]]\n",
      "14 day input [0.08477237 0.08643884 0.09658254 0.10827195 0.11358532 0.12288371\n",
      " 0.12346335 0.12080667 0.10880328 0.09641348 0.10167854 0.10373143\n",
      " 0.10119551 0.10952783 0.10800628 0.10836855 0.1061949  0.1046975\n",
      " 0.10406956 0.1046492  0.09938413 0.09370849 0.09097935 0.09136578\n",
      " 0.08201908 0.08168096 0.08044922 0.06991909 0.07057119 0.08634223\n",
      " 0.07989373 0.07250332 0.06784205 0.07095761 0.05873687 0.07014853\n",
      " 0.06747977 0.0722618  0.0700157  0.07716459 0.08098056 0.07902427\n",
      " 0.06880811 0.06750392 0.07571549 0.0736626  0.06774544 0.06895302\n",
      " 0.07045043 0.07088516 0.06728656 0.07272069 0.07477358 0.08177756\n",
      " 0.08252626 0.0866079  0.09254921 0.09891317 0.09467456 0.10237894\n",
      " 0.09658254 0.102548   0.10172684 0.10336916 0.09919092 0.10013283\n",
      " 0.09636517 0.10211327 0.10307934 0.10228233 0.10032605 0.10008453\n",
      " 0.09520589 0.09781427 0.08648714 0.08709093 0.09105181 0.09218693\n",
      " 0.08407197 0.08180171 0.07421809 0.07953146 0.08552107 0.08267117\n",
      " 0.07924164 0.07885521 0.08648189 0.08694247 0.08799737 0.08942462\n",
      " 0.09099818 0.09256595 0.09405158 0.09543107 0.09670884 0.09790178\n",
      " 0.09903043 0.10011539 0.10117562 0.10222796]\n",
      "14 day output [[0.10328673]]\n",
      "15 day input [0.08643884 0.09658254 0.10827195 0.11358532 0.12288371 0.12346335\n",
      " 0.12080667 0.10880328 0.09641348 0.10167854 0.10373143 0.10119551\n",
      " 0.10952783 0.10800628 0.10836855 0.1061949  0.1046975  0.10406956\n",
      " 0.1046492  0.09938413 0.09370849 0.09097935 0.09136578 0.08201908\n",
      " 0.08168096 0.08044922 0.06991909 0.07057119 0.08634223 0.07989373\n",
      " 0.07250332 0.06784205 0.07095761 0.05873687 0.07014853 0.06747977\n",
      " 0.0722618  0.0700157  0.07716459 0.08098056 0.07902427 0.06880811\n",
      " 0.06750392 0.07571549 0.0736626  0.06774544 0.06895302 0.07045043\n",
      " 0.07088516 0.06728656 0.07272069 0.07477358 0.08177756 0.08252626\n",
      " 0.0866079  0.09254921 0.09891317 0.09467456 0.10237894 0.09658254\n",
      " 0.102548   0.10172684 0.10336916 0.09919092 0.10013283 0.09636517\n",
      " 0.10211327 0.10307934 0.10228233 0.10032605 0.10008453 0.09520589\n",
      " 0.09781427 0.08648714 0.08709093 0.09105181 0.09218693 0.08407197\n",
      " 0.08180171 0.07421809 0.07953146 0.08552107 0.08267117 0.07924164\n",
      " 0.07885521 0.08648189 0.08694247 0.08799737 0.08942462 0.09099818\n",
      " 0.09256595 0.09405158 0.09543107 0.09670884 0.09790178 0.09903043\n",
      " 0.10011539 0.10117562 0.10222796 0.10328673]\n",
      "15 day output [[0.10436354]]\n",
      "16 day input [0.09658254 0.10827195 0.11358532 0.12288371 0.12346335 0.12080667\n",
      " 0.10880328 0.09641348 0.10167854 0.10373143 0.10119551 0.10952783\n",
      " 0.10800628 0.10836855 0.1061949  0.1046975  0.10406956 0.1046492\n",
      " 0.09938413 0.09370849 0.09097935 0.09136578 0.08201908 0.08168096\n",
      " 0.08044922 0.06991909 0.07057119 0.08634223 0.07989373 0.07250332\n",
      " 0.06784205 0.07095761 0.05873687 0.07014853 0.06747977 0.0722618\n",
      " 0.0700157  0.07716459 0.08098056 0.07902427 0.06880811 0.06750392\n",
      " 0.07571549 0.0736626  0.06774544 0.06895302 0.07045043 0.07088516\n",
      " 0.06728656 0.07272069 0.07477358 0.08177756 0.08252626 0.0866079\n",
      " 0.09254921 0.09891317 0.09467456 0.10237894 0.09658254 0.102548\n",
      " 0.10172684 0.10336916 0.09919092 0.10013283 0.09636517 0.10211327\n",
      " 0.10307934 0.10228233 0.10032605 0.10008453 0.09520589 0.09781427\n",
      " 0.08648714 0.08709093 0.09105181 0.09218693 0.08407197 0.08180171\n",
      " 0.07421809 0.07953146 0.08552107 0.08267117 0.07924164 0.07885521\n",
      " 0.08648189 0.08694247 0.08799737 0.08942462 0.09099818 0.09256595\n",
      " 0.09405158 0.09543107 0.09670884 0.09790178 0.09903043 0.10011539\n",
      " 0.10117562 0.10222796 0.10328673 0.10436354]\n",
      "16 day output [[0.1054671]]\n",
      "17 day input [0.10827195 0.11358532 0.12288371 0.12346335 0.12080667 0.10880328\n",
      " 0.09641348 0.10167854 0.10373143 0.10119551 0.10952783 0.10800628\n",
      " 0.10836855 0.1061949  0.1046975  0.10406956 0.1046492  0.09938413\n",
      " 0.09370849 0.09097935 0.09136578 0.08201908 0.08168096 0.08044922\n",
      " 0.06991909 0.07057119 0.08634223 0.07989373 0.07250332 0.06784205\n",
      " 0.07095761 0.05873687 0.07014853 0.06747977 0.0722618  0.0700157\n",
      " 0.07716459 0.08098056 0.07902427 0.06880811 0.06750392 0.07571549\n",
      " 0.0736626  0.06774544 0.06895302 0.07045043 0.07088516 0.06728656\n",
      " 0.07272069 0.07477358 0.08177756 0.08252626 0.0866079  0.09254921\n",
      " 0.09891317 0.09467456 0.10237894 0.09658254 0.102548   0.10172684\n",
      " 0.10336916 0.09919092 0.10013283 0.09636517 0.10211327 0.10307934\n",
      " 0.10228233 0.10032605 0.10008453 0.09520589 0.09781427 0.08648714\n",
      " 0.08709093 0.09105181 0.09218693 0.08407197 0.08180171 0.07421809\n",
      " 0.07953146 0.08552107 0.08267117 0.07924164 0.07885521 0.08648189\n",
      " 0.08694247 0.08799737 0.08942462 0.09099818 0.09256595 0.09405158\n",
      " 0.09543107 0.09670884 0.09790178 0.09903043 0.10011539 0.10117562\n",
      " 0.10222796 0.10328673 0.10436354 0.1054671 ]\n",
      "17 day output [[0.10660339]]\n",
      "18 day input [0.11358532 0.12288371 0.12346335 0.12080667 0.10880328 0.09641348\n",
      " 0.10167854 0.10373143 0.10119551 0.10952783 0.10800628 0.10836855\n",
      " 0.1061949  0.1046975  0.10406956 0.1046492  0.09938413 0.09370849\n",
      " 0.09097935 0.09136578 0.08201908 0.08168096 0.08044922 0.06991909\n",
      " 0.07057119 0.08634223 0.07989373 0.07250332 0.06784205 0.07095761\n",
      " 0.05873687 0.07014853 0.06747977 0.0722618  0.0700157  0.07716459\n",
      " 0.08098056 0.07902427 0.06880811 0.06750392 0.07571549 0.0736626\n",
      " 0.06774544 0.06895302 0.07045043 0.07088516 0.06728656 0.07272069\n",
      " 0.07477358 0.08177756 0.08252626 0.0866079  0.09254921 0.09891317\n",
      " 0.09467456 0.10237894 0.09658254 0.102548   0.10172684 0.10336916\n",
      " 0.09919092 0.10013283 0.09636517 0.10211327 0.10307934 0.10228233\n",
      " 0.10032605 0.10008453 0.09520589 0.09781427 0.08648714 0.08709093\n",
      " 0.09105181 0.09218693 0.08407197 0.08180171 0.07421809 0.07953146\n",
      " 0.08552107 0.08267117 0.07924164 0.07885521 0.08648189 0.08694247\n",
      " 0.08799737 0.08942462 0.09099818 0.09256595 0.09405158 0.09543107\n",
      " 0.09670884 0.09790178 0.09903043 0.10011539 0.10117562 0.10222796\n",
      " 0.10328673 0.10436354 0.1054671  0.10660339]\n",
      "18 day output [[0.10777584]]\n",
      "19 day input [0.12288371 0.12346335 0.12080667 0.10880328 0.09641348 0.10167854\n",
      " 0.10373143 0.10119551 0.10952783 0.10800628 0.10836855 0.1061949\n",
      " 0.1046975  0.10406956 0.1046492  0.09938413 0.09370849 0.09097935\n",
      " 0.09136578 0.08201908 0.08168096 0.08044922 0.06991909 0.07057119\n",
      " 0.08634223 0.07989373 0.07250332 0.06784205 0.07095761 0.05873687\n",
      " 0.07014853 0.06747977 0.0722618  0.0700157  0.07716459 0.08098056\n",
      " 0.07902427 0.06880811 0.06750392 0.07571549 0.0736626  0.06774544\n",
      " 0.06895302 0.07045043 0.07088516 0.06728656 0.07272069 0.07477358\n",
      " 0.08177756 0.08252626 0.0866079  0.09254921 0.09891317 0.09467456\n",
      " 0.10237894 0.09658254 0.102548   0.10172684 0.10336916 0.09919092\n",
      " 0.10013283 0.09636517 0.10211327 0.10307934 0.10228233 0.10032605\n",
      " 0.10008453 0.09520589 0.09781427 0.08648714 0.08709093 0.09105181\n",
      " 0.09218693 0.08407197 0.08180171 0.07421809 0.07953146 0.08552107\n",
      " 0.08267117 0.07924164 0.07885521 0.08648189 0.08694247 0.08799737\n",
      " 0.08942462 0.09099818 0.09256595 0.09405158 0.09543107 0.09670884\n",
      " 0.09790178 0.09903043 0.10011539 0.10117562 0.10222796 0.10328673\n",
      " 0.10436354 0.1054671  0.10660339 0.10777584]\n"
     ]
    },
    {
     "name": "stdout",
     "output_type": "stream",
     "text": [
      "19 day output [[0.10898564]]\n",
      "20 day input [0.12346335 0.12080667 0.10880328 0.09641348 0.10167854 0.10373143\n",
      " 0.10119551 0.10952783 0.10800628 0.10836855 0.1061949  0.1046975\n",
      " 0.10406956 0.1046492  0.09938413 0.09370849 0.09097935 0.09136578\n",
      " 0.08201908 0.08168096 0.08044922 0.06991909 0.07057119 0.08634223\n",
      " 0.07989373 0.07250332 0.06784205 0.07095761 0.05873687 0.07014853\n",
      " 0.06747977 0.0722618  0.0700157  0.07716459 0.08098056 0.07902427\n",
      " 0.06880811 0.06750392 0.07571549 0.0736626  0.06774544 0.06895302\n",
      " 0.07045043 0.07088516 0.06728656 0.07272069 0.07477358 0.08177756\n",
      " 0.08252626 0.0866079  0.09254921 0.09891317 0.09467456 0.10237894\n",
      " 0.09658254 0.102548   0.10172684 0.10336916 0.09919092 0.10013283\n",
      " 0.09636517 0.10211327 0.10307934 0.10228233 0.10032605 0.10008453\n",
      " 0.09520589 0.09781427 0.08648714 0.08709093 0.09105181 0.09218693\n",
      " 0.08407197 0.08180171 0.07421809 0.07953146 0.08552107 0.08267117\n",
      " 0.07924164 0.07885521 0.08648189 0.08694247 0.08799737 0.08942462\n",
      " 0.09099818 0.09256595 0.09405158 0.09543107 0.09670884 0.09790178\n",
      " 0.09903043 0.10011539 0.10117562 0.10222796 0.10328673 0.10436354\n",
      " 0.1054671  0.10660339 0.10777584 0.10898564]\n",
      "20 day output [[0.11023223]]\n",
      "21 day input [0.12080667 0.10880328 0.09641348 0.10167854 0.10373143 0.10119551\n",
      " 0.10952783 0.10800628 0.10836855 0.1061949  0.1046975  0.10406956\n",
      " 0.1046492  0.09938413 0.09370849 0.09097935 0.09136578 0.08201908\n",
      " 0.08168096 0.08044922 0.06991909 0.07057119 0.08634223 0.07989373\n",
      " 0.07250332 0.06784205 0.07095761 0.05873687 0.07014853 0.06747977\n",
      " 0.0722618  0.0700157  0.07716459 0.08098056 0.07902427 0.06880811\n",
      " 0.06750392 0.07571549 0.0736626  0.06774544 0.06895302 0.07045043\n",
      " 0.07088516 0.06728656 0.07272069 0.07477358 0.08177756 0.08252626\n",
      " 0.0866079  0.09254921 0.09891317 0.09467456 0.10237894 0.09658254\n",
      " 0.102548   0.10172684 0.10336916 0.09919092 0.10013283 0.09636517\n",
      " 0.10211327 0.10307934 0.10228233 0.10032605 0.10008453 0.09520589\n",
      " 0.09781427 0.08648714 0.08709093 0.09105181 0.09218693 0.08407197\n",
      " 0.08180171 0.07421809 0.07953146 0.08552107 0.08267117 0.07924164\n",
      " 0.07885521 0.08648189 0.08694247 0.08799737 0.08942462 0.09099818\n",
      " 0.09256595 0.09405158 0.09543107 0.09670884 0.09790178 0.09903043\n",
      " 0.10011539 0.10117562 0.10222796 0.10328673 0.10436354 0.1054671\n",
      " 0.10660339 0.10777584 0.10898564 0.11023223]\n",
      "21 day output [[0.11151383]]\n",
      "22 day input [0.10880328 0.09641348 0.10167854 0.10373143 0.10119551 0.10952783\n",
      " 0.10800628 0.10836855 0.1061949  0.1046975  0.10406956 0.1046492\n",
      " 0.09938413 0.09370849 0.09097935 0.09136578 0.08201908 0.08168096\n",
      " 0.08044922 0.06991909 0.07057119 0.08634223 0.07989373 0.07250332\n",
      " 0.06784205 0.07095761 0.05873687 0.07014853 0.06747977 0.0722618\n",
      " 0.0700157  0.07716459 0.08098056 0.07902427 0.06880811 0.06750392\n",
      " 0.07571549 0.0736626  0.06774544 0.06895302 0.07045043 0.07088516\n",
      " 0.06728656 0.07272069 0.07477358 0.08177756 0.08252626 0.0866079\n",
      " 0.09254921 0.09891317 0.09467456 0.10237894 0.09658254 0.102548\n",
      " 0.10172684 0.10336916 0.09919092 0.10013283 0.09636517 0.10211327\n",
      " 0.10307934 0.10228233 0.10032605 0.10008453 0.09520589 0.09781427\n",
      " 0.08648714 0.08709093 0.09105181 0.09218693 0.08407197 0.08180171\n",
      " 0.07421809 0.07953146 0.08552107 0.08267117 0.07924164 0.07885521\n",
      " 0.08648189 0.08694247 0.08799737 0.08942462 0.09099818 0.09256595\n",
      " 0.09405158 0.09543107 0.09670884 0.09790178 0.09903043 0.10011539\n",
      " 0.10117562 0.10222796 0.10328673 0.10436354 0.1054671  0.10660339\n",
      " 0.10777584 0.10898564 0.11023223 0.11151383]\n",
      "22 day output [[0.11282776]]\n",
      "23 day input [0.09641348 0.10167854 0.10373143 0.10119551 0.10952783 0.10800628\n",
      " 0.10836855 0.1061949  0.1046975  0.10406956 0.1046492  0.09938413\n",
      " 0.09370849 0.09097935 0.09136578 0.08201908 0.08168096 0.08044922\n",
      " 0.06991909 0.07057119 0.08634223 0.07989373 0.07250332 0.06784205\n",
      " 0.07095761 0.05873687 0.07014853 0.06747977 0.0722618  0.0700157\n",
      " 0.07716459 0.08098056 0.07902427 0.06880811 0.06750392 0.07571549\n",
      " 0.0736626  0.06774544 0.06895302 0.07045043 0.07088516 0.06728656\n",
      " 0.07272069 0.07477358 0.08177756 0.08252626 0.0866079  0.09254921\n",
      " 0.09891317 0.09467456 0.10237894 0.09658254 0.102548   0.10172684\n",
      " 0.10336916 0.09919092 0.10013283 0.09636517 0.10211327 0.10307934\n",
      " 0.10228233 0.10032605 0.10008453 0.09520589 0.09781427 0.08648714\n",
      " 0.08709093 0.09105181 0.09218693 0.08407197 0.08180171 0.07421809\n",
      " 0.07953146 0.08552107 0.08267117 0.07924164 0.07885521 0.08648189\n",
      " 0.08694247 0.08799737 0.08942462 0.09099818 0.09256595 0.09405158\n",
      " 0.09543107 0.09670884 0.09790178 0.09903043 0.10011539 0.10117562\n",
      " 0.10222796 0.10328673 0.10436354 0.1054671  0.10660339 0.10777584\n",
      " 0.10898564 0.11023223 0.11151383 0.11282776]\n",
      "23 day output [[0.11417097]]\n",
      "24 day input [0.10167854 0.10373143 0.10119551 0.10952783 0.10800628 0.10836855\n",
      " 0.1061949  0.1046975  0.10406956 0.1046492  0.09938413 0.09370849\n",
      " 0.09097935 0.09136578 0.08201908 0.08168096 0.08044922 0.06991909\n",
      " 0.07057119 0.08634223 0.07989373 0.07250332 0.06784205 0.07095761\n",
      " 0.05873687 0.07014853 0.06747977 0.0722618  0.0700157  0.07716459\n",
      " 0.08098056 0.07902427 0.06880811 0.06750392 0.07571549 0.0736626\n",
      " 0.06774544 0.06895302 0.07045043 0.07088516 0.06728656 0.07272069\n",
      " 0.07477358 0.08177756 0.08252626 0.0866079  0.09254921 0.09891317\n",
      " 0.09467456 0.10237894 0.09658254 0.102548   0.10172684 0.10336916\n",
      " 0.09919092 0.10013283 0.09636517 0.10211327 0.10307934 0.10228233\n",
      " 0.10032605 0.10008453 0.09520589 0.09781427 0.08648714 0.08709093\n",
      " 0.09105181 0.09218693 0.08407197 0.08180171 0.07421809 0.07953146\n",
      " 0.08552107 0.08267117 0.07924164 0.07885521 0.08648189 0.08694247\n",
      " 0.08799737 0.08942462 0.09099818 0.09256595 0.09405158 0.09543107\n",
      " 0.09670884 0.09790178 0.09903043 0.10011539 0.10117562 0.10222796\n",
      " 0.10328673 0.10436354 0.1054671  0.10660339 0.10777584 0.10898564\n",
      " 0.11023223 0.11151383 0.11282776 0.11417097]\n",
      "24 day output [[0.11554034]]\n",
      "25 day input [0.10373143 0.10119551 0.10952783 0.10800628 0.10836855 0.1061949\n",
      " 0.1046975  0.10406956 0.1046492  0.09938413 0.09370849 0.09097935\n",
      " 0.09136578 0.08201908 0.08168096 0.08044922 0.06991909 0.07057119\n",
      " 0.08634223 0.07989373 0.07250332 0.06784205 0.07095761 0.05873687\n",
      " 0.07014853 0.06747977 0.0722618  0.0700157  0.07716459 0.08098056\n",
      " 0.07902427 0.06880811 0.06750392 0.07571549 0.0736626  0.06774544\n",
      " 0.06895302 0.07045043 0.07088516 0.06728656 0.07272069 0.07477358\n",
      " 0.08177756 0.08252626 0.0866079  0.09254921 0.09891317 0.09467456\n",
      " 0.10237894 0.09658254 0.102548   0.10172684 0.10336916 0.09919092\n",
      " 0.10013283 0.09636517 0.10211327 0.10307934 0.10228233 0.10032605\n",
      " 0.10008453 0.09520589 0.09781427 0.08648714 0.08709093 0.09105181\n",
      " 0.09218693 0.08407197 0.08180171 0.07421809 0.07953146 0.08552107\n",
      " 0.08267117 0.07924164 0.07885521 0.08648189 0.08694247 0.08799737\n",
      " 0.08942462 0.09099818 0.09256595 0.09405158 0.09543107 0.09670884\n",
      " 0.09790178 0.09903043 0.10011539 0.10117562 0.10222796 0.10328673\n",
      " 0.10436354 0.1054671  0.10660339 0.10777584 0.10898564 0.11023223\n",
      " 0.11151383 0.11282776 0.11417097 0.11554034]\n",
      "25 day output [[0.11693297]]\n",
      "26 day input [0.10119551 0.10952783 0.10800628 0.10836855 0.1061949  0.1046975\n",
      " 0.10406956 0.1046492  0.09938413 0.09370849 0.09097935 0.09136578\n",
      " 0.08201908 0.08168096 0.08044922 0.06991909 0.07057119 0.08634223\n",
      " 0.07989373 0.07250332 0.06784205 0.07095761 0.05873687 0.07014853\n",
      " 0.06747977 0.0722618  0.0700157  0.07716459 0.08098056 0.07902427\n",
      " 0.06880811 0.06750392 0.07571549 0.0736626  0.06774544 0.06895302\n",
      " 0.07045043 0.07088516 0.06728656 0.07272069 0.07477358 0.08177756\n",
      " 0.08252626 0.0866079  0.09254921 0.09891317 0.09467456 0.10237894\n",
      " 0.09658254 0.102548   0.10172684 0.10336916 0.09919092 0.10013283\n",
      " 0.09636517 0.10211327 0.10307934 0.10228233 0.10032605 0.10008453\n",
      " 0.09520589 0.09781427 0.08648714 0.08709093 0.09105181 0.09218693\n",
      " 0.08407197 0.08180171 0.07421809 0.07953146 0.08552107 0.08267117\n",
      " 0.07924164 0.07885521 0.08648189 0.08694247 0.08799737 0.08942462\n",
      " 0.09099818 0.09256595 0.09405158 0.09543107 0.09670884 0.09790178\n",
      " 0.09903043 0.10011539 0.10117562 0.10222796 0.10328673 0.10436354\n",
      " 0.1054671  0.10660339 0.10777584 0.10898564 0.11023223 0.11151383\n",
      " 0.11282776 0.11417097 0.11554034 0.11693297]\n",
      "26 day output [[0.11834627]]\n",
      "27 day input [0.10952783 0.10800628 0.10836855 0.1061949  0.1046975  0.10406956\n",
      " 0.1046492  0.09938413 0.09370849 0.09097935 0.09136578 0.08201908\n",
      " 0.08168096 0.08044922 0.06991909 0.07057119 0.08634223 0.07989373\n",
      " 0.07250332 0.06784205 0.07095761 0.05873687 0.07014853 0.06747977\n",
      " 0.0722618  0.0700157  0.07716459 0.08098056 0.07902427 0.06880811\n",
      " 0.06750392 0.07571549 0.0736626  0.06774544 0.06895302 0.07045043\n",
      " 0.07088516 0.06728656 0.07272069 0.07477358 0.08177756 0.08252626\n",
      " 0.0866079  0.09254921 0.09891317 0.09467456 0.10237894 0.09658254\n",
      " 0.102548   0.10172684 0.10336916 0.09919092 0.10013283 0.09636517\n",
      " 0.10211327 0.10307934 0.10228233 0.10032605 0.10008453 0.09520589\n",
      " 0.09781427 0.08648714 0.08709093 0.09105181 0.09218693 0.08407197\n",
      " 0.08180171 0.07421809 0.07953146 0.08552107 0.08267117 0.07924164\n",
      " 0.07885521 0.08648189 0.08694247 0.08799737 0.08942462 0.09099818\n",
      " 0.09256595 0.09405158 0.09543107 0.09670884 0.09790178 0.09903043\n",
      " 0.10011539 0.10117562 0.10222796 0.10328673 0.10436354 0.1054671\n",
      " 0.10660339 0.10777584 0.10898564 0.11023223 0.11151383 0.11282776\n",
      " 0.11417097 0.11554034 0.11693297 0.11834627]\n",
      "27 day output [[0.11977828]]\n",
      "28 day input [0.10800628 0.10836855 0.1061949  0.1046975  0.10406956 0.1046492\n",
      " 0.09938413 0.09370849 0.09097935 0.09136578 0.08201908 0.08168096\n",
      " 0.08044922 0.06991909 0.07057119 0.08634223 0.07989373 0.07250332\n",
      " 0.06784205 0.07095761 0.05873687 0.07014853 0.06747977 0.0722618\n",
      " 0.0700157  0.07716459 0.08098056 0.07902427 0.06880811 0.06750392\n",
      " 0.07571549 0.0736626  0.06774544 0.06895302 0.07045043 0.07088516\n",
      " 0.06728656 0.07272069 0.07477358 0.08177756 0.08252626 0.0866079\n",
      " 0.09254921 0.09891317 0.09467456 0.10237894 0.09658254 0.102548\n",
      " 0.10172684 0.10336916 0.09919092 0.10013283 0.09636517 0.10211327\n",
      " 0.10307934 0.10228233 0.10032605 0.10008453 0.09520589 0.09781427\n",
      " 0.08648714 0.08709093 0.09105181 0.09218693 0.08407197 0.08180171\n",
      " 0.07421809 0.07953146 0.08552107 0.08267117 0.07924164 0.07885521\n",
      " 0.08648189 0.08694247 0.08799737 0.08942462 0.09099818 0.09256595\n",
      " 0.09405158 0.09543107 0.09670884 0.09790178 0.09903043 0.10011539\n",
      " 0.10117562 0.10222796 0.10328673 0.10436354 0.1054671  0.10660339\n",
      " 0.10777584 0.10898564 0.11023223 0.11151383 0.11282776 0.11417097\n",
      " 0.11554034 0.11693297 0.11834627 0.11977828]\n",
      "28 day output [[0.12122749]]\n",
      "29 day input [0.10836855 0.1061949  0.1046975  0.10406956 0.1046492  0.09938413\n",
      " 0.09370849 0.09097935 0.09136578 0.08201908 0.08168096 0.08044922\n",
      " 0.06991909 0.07057119 0.08634223 0.07989373 0.07250332 0.06784205\n",
      " 0.07095761 0.05873687 0.07014853 0.06747977 0.0722618  0.0700157\n",
      " 0.07716459 0.08098056 0.07902427 0.06880811 0.06750392 0.07571549\n",
      " 0.0736626  0.06774544 0.06895302 0.07045043 0.07088516 0.06728656\n",
      " 0.07272069 0.07477358 0.08177756 0.08252626 0.0866079  0.09254921\n",
      " 0.09891317 0.09467456 0.10237894 0.09658254 0.102548   0.10172684\n",
      " 0.10336916 0.09919092 0.10013283 0.09636517 0.10211327 0.10307934\n",
      " 0.10228233 0.10032605 0.10008453 0.09520589 0.09781427 0.08648714\n",
      " 0.08709093 0.09105181 0.09218693 0.08407197 0.08180171 0.07421809\n",
      " 0.07953146 0.08552107 0.08267117 0.07924164 0.07885521 0.08648189\n",
      " 0.08694247 0.08799737 0.08942462 0.09099818 0.09256595 0.09405158\n",
      " 0.09543107 0.09670884 0.09790178 0.09903043 0.10011539 0.10117562\n",
      " 0.10222796 0.10328673 0.10436354 0.1054671  0.10660339 0.10777584\n",
      " 0.10898564 0.11023223 0.11151383 0.11282776 0.11417097 0.11554034\n",
      " 0.11693297 0.11834627 0.11977828 0.12122749]\n"
     ]
    },
    {
     "name": "stdout",
     "output_type": "stream",
     "text": [
      "29 day output [[0.12269297]]\n",
      "[[0.08648189157247543], [0.08694247156381607], [0.08799736946821213], [0.08942461758852005], [0.09099818021059036], [0.09256595373153687], [0.09405157715082169], [0.09543106704950333], [0.09670884162187576], [0.09790177643299103], [0.09903042763471603], [0.10011538863182068], [0.10117562115192413], [0.10222795605659485], [0.1032867282629013], [0.10436353832483292], [0.10546710342168808], [0.10660339146852493], [0.10777584463357925], [0.10898564010858536], [0.11023223400115967], [0.11151383072137833], [0.11282776296138763], [0.11417096853256226], [0.11554034054279327], [0.11693296581506729], [0.11834627389907837], [0.11977827548980713], [0.12122748792171478], [0.12269297242164612]]\n"
     ]
    }
   ],
   "source": [
    "# Demonstrate prediction for next 10 days\n",
    "from numpy import array\n",
    "\n",
    "lst_output = []\n",
    "n_steps = 100\n",
    "i = 0\n",
    "\n",
    "while (i < 30):\n",
    "    \n",
    "    if (len(temp_input) > 100):\n",
    "#         print(temp_input)\n",
    "        x_input = np.array(temp_input[1:])\n",
    "        print(\"{} day input {}\".format(i, x_input))\n",
    "        x_input = x_input.reshape(1, -1)\n",
    "        x_input = x_input.reshape(1, n_steps, 1)\n",
    "        # print(x_input)\n",
    "        yhat = model.predict(x_input, verbose=0)\n",
    "        print(\"{} day output {}\".format(i, yhat))\n",
    "        temp_input.extend(yhat[0].tolist())\n",
    "        temp_input = temp_input[1:]\n",
    "        # print(temp_input)\n",
    "        lst_output.extend(yhat.tolist())\n",
    "        i = i + 1\n",
    "    else:\n",
    "        x_input = x_input.reshape((1, n_steps, 1))\n",
    "        yhat = model.predict(x_input, verbose = 0)\n",
    "        print(yhat[0])\n",
    "        temp_input.extend(yhat[0].tolist())\n",
    "        print(len(temp_input))\n",
    "        lst_output.extend(yhat.tolist())\n",
    "        i = i + 1\n",
    "        \n",
    "print(lst_output)"
   ]
  },
  {
   "cell_type": "code",
   "execution_count": 62,
   "metadata": {},
   "outputs": [],
   "source": [
    "# 100 element with newly predicted day\n",
    "day_new = np.arange(1, 101)\n",
    "#next thirty days\n",
    "day_pred = np.arange(101, 131)"
   ]
  },
  {
   "cell_type": "code",
   "execution_count": 64,
   "metadata": {},
   "outputs": [],
   "source": [
    "import matplotlib.pyplot as plt"
   ]
  },
  {
   "cell_type": "code",
   "execution_count": 65,
   "metadata": {},
   "outputs": [
    {
     "data": {
      "text/plain": [
       "1257"
      ]
     },
     "execution_count": 65,
     "metadata": {},
     "output_type": "execute_result"
    }
   ],
   "source": [
    "len(df1)"
   ]
  },
  {
   "cell_type": "code",
   "execution_count": 66,
   "metadata": {},
   "outputs": [],
   "source": [
    "df3 = df1.tolist()\n",
    "df3.extend(lst_output)"
   ]
  },
  {
   "cell_type": "code",
   "execution_count": 68,
   "metadata": {},
   "outputs": [
    {
     "data": {
      "text/plain": [
       "[<matplotlib.lines.Line2D at 0x1bbbab0d220>]"
      ]
     },
     "execution_count": 68,
     "metadata": {},
     "output_type": "execute_result"
    },
    {
     "data": {
      "image/png": "[encoded data removed]",
      "text/plain": [
       "<Figure size 432x288 with 1 Axes>"
      ]
     },
     "metadata": {
      "needs_background": "light"
     },
     "output_type": "display_data"
    }
   ],
   "source": [
    "plt.plot(day_new, scaler.inverse_transform(df1[len(df1)-100:]))\n",
    "plt.plot(day_pred, scaler.inverse_transform(lst_output))"
   ]
  },
  {
   "cell_type": "code",
   "execution_count": 74,
   "metadata": {},
   "outputs": [
    {
     "data": {
      "text/plain": [
       "[<matplotlib.lines.Line2D at 0x1bbc96c9fd0>]"
      ]
     },
     "execution_count": 74,
     "metadata": {},
     "output_type": "execute_result"
    },
    {
     "data": {
      "image/png": "[encoded data removed]",
      "text/plain": [
       "<Figure size 432x288 with 1 Axes>"
      ]
     },
     "metadata": {
      "needs_background": "light"
     },
     "output_type": "display_data"
    }
   ],
   "source": [
    "df3 = df1.tolist()\n",
    "df3.extend(lst_output)\n",
    "plt.plot(df3[1000:])"
   ]
  },
  {
   "cell_type": "code",
   "execution_count": null,
   "metadata": {},
   "outputs": [],
   "source": []
  },
  {
   "cell_type": "code",
   "execution_count": null,
   "metadata": {},
   "outputs": [],
   "source": []
  }
 ],
 "metadata": {
  "kernelspec": {
   "display_name": "Python 3",
   "language": "python",
   "name": "python3"
  },
  "language_info": {
   "codemirror_mode": {
    "name": "ipython",
    "version": 3
   },
   "file_extension": ".py",
   "mimetype": "text/x-python",
   "name": "python",
   "nbconvert_exporter": "python",
   "pygments_lexer": "ipython3",
   "version": "3.8.5"
  }
 },
 "nbformat": 4,
 "nbformat_minor": 4
}
