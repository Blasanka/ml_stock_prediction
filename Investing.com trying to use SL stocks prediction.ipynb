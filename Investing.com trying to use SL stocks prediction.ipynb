{
 "cells": [
  {
   "cell_type": "code",
   "execution_count": 3,
   "metadata": {},
   "outputs": [
    {
     "name": "stdout",
     "output_type": "stream",
     "text": [
      "            Open  High   Low  Close   Volume Currency\n",
      "Date                                                 \n",
      "2021-05-12  50.1  51.4  49.9   50.0   660741      LKR\n",
      "2021-05-13  49.8  50.7  49.7   50.6   373219      LKR\n",
      "2021-05-17  50.6  52.0  50.6   51.9   606055      LKR\n",
      "2021-05-18  52.2  52.3  51.7   52.2  1120518      LKR\n",
      "2021-05-19  52.2  52.9  51.9   52.7   528819      LKR\n"
     ]
    }
   ],
   "source": [
    "import investpy\n",
    "\n",
    "df = investpy.get_stock_historical_data(stock='SAMP',\n",
    "                                        country='Sri Lanka',\n",
    "                                        from_date='01/01/2010',\n",
    "                                        to_date='20/05/2021')\n",
    "print(df.tail())"
   ]
  },
  {
   "cell_type": "code",
   "execution_count": 4,
   "metadata": {},
   "outputs": [],
   "source": [
    "### Since we only have 50 request a day, will write data frames to csv file first\n",
    "\n",
    "df.to_csv('SAMP.csv')"
   ]
  },
  {
   "cell_type": "code",
   "execution_count": 5,
   "metadata": {},
   "outputs": [],
   "source": [
    "import pandas as pd"
   ]
  },
  {
   "cell_type": "code",
   "execution_count": 6,
   "metadata": {},
   "outputs": [],
   "source": [
    "df = pd.read_csv('SAMP.csv')"
   ]
  },
  {
   "cell_type": "code",
   "execution_count": 7,
   "metadata": {},
   "outputs": [],
   "source": [
    "df1 = df.reset_index()['Close']"
   ]
  },
  {
   "cell_type": "code",
   "execution_count": 8,
   "metadata": {},
   "outputs": [
    {
     "data": {
      "text/plain": [
       "1228    234.92\n",
       "1229    242.59\n",
       "1230    242.59\n",
       "1231    241.69\n",
       "1232    241.69\n",
       "         ...  \n",
       "2689     50.00\n",
       "2690     50.60\n",
       "2691     51.90\n",
       "2692     52.20\n",
       "2693     52.70\n",
       "Name: Close, Length: 1466, dtype: float64"
      ]
     },
     "execution_count": 8,
     "metadata": {},
     "output_type": "execute_result"
    }
   ],
   "source": [
    "df1[1228:]"
   ]
  },
  {
   "cell_type": "code",
   "execution_count": 9,
   "metadata": {},
   "outputs": [
    {
     "data": {
      "text/plain": [
       "(2694,)"
      ]
     },
     "execution_count": 9,
     "metadata": {},
     "output_type": "execute_result"
    }
   ],
   "source": [
    "df1.shape"
   ]
  },
  {
   "cell_type": "code",
   "execution_count": 10,
   "metadata": {},
   "outputs": [
    {
     "data": {
      "text/plain": [
       "0       89.31\n",
       "1       89.72\n",
       "2       88.80\n",
       "3       89.62\n",
       "4       90.43\n",
       "        ...  \n",
       "2689    50.00\n",
       "2690    50.60\n",
       "2691    51.90\n",
       "2692    52.20\n",
       "2693    52.70\n",
       "Name: Close, Length: 2694, dtype: float64"
      ]
     },
     "execution_count": 10,
     "metadata": {},
     "output_type": "execute_result"
    }
   ],
   "source": [
    "df1"
   ]
  },
  {
   "cell_type": "code",
   "execution_count": 11,
   "metadata": {},
   "outputs": [
    {
     "data": {
      "text/plain": [
       "[<matplotlib.lines.Line2D at 0x2791e9893a0>]"
      ]
     },
     "execution_count": 11,
     "metadata": {},
     "output_type": "execute_result"
    },
    {
     "data": {
      "image/png": "[encoded data removed]",
      "text/plain": [
       "<Figure size 432x288 with 1 Axes>"
      ]
     },
     "metadata": {
      "needs_background": "light"
     },
     "output_type": "display_data"
    }
   ],
   "source": [
    "import matplotlib.pyplot as plt\n",
    "plt.plot(df1)"
   ]
  },
  {
   "cell_type": "code",
   "execution_count": 12,
   "metadata": {},
   "outputs": [
    {
     "data": {
      "text/plain": [
       "count    2694.000000\n",
       "mean      181.922361\n",
       "std        73.810573\n",
       "min        33.000000\n",
       "25%       157.257500\n",
       "50%       203.850000\n",
       "75%       231.190000\n",
       "max       303.480000\n",
       "Name: Close, dtype: float64"
      ]
     },
     "execution_count": 12,
     "metadata": {},
     "output_type": "execute_result"
    }
   ],
   "source": [
    "df1.describe()"
   ]
  },
  {
   "cell_type": "code",
   "execution_count": 13,
   "metadata": {},
   "outputs": [
    {
     "data": {
      "text/plain": [
       "1228    234.92\n",
       "1229    242.59\n",
       "1230    242.59\n",
       "1231    241.69\n",
       "1232    241.69\n",
       "         ...  \n",
       "2689     50.00\n",
       "2690     50.60\n",
       "2691     51.90\n",
       "2692     52.20\n",
       "2693     52.70\n",
       "Name: Close, Length: 1466, dtype: float64"
      ]
     },
     "execution_count": 13,
     "metadata": {},
     "output_type": "execute_result"
    }
   ],
   "source": [
    "df1[1228:]"
   ]
  },
  {
   "cell_type": "code",
   "execution_count": 15,
   "metadata": {},
   "outputs": [],
   "source": [
    "### LSTM are sensitive to the scale of the data. So we apply MinMax scaler"
   ]
  },
  {
   "cell_type": "code",
   "execution_count": 16,
   "metadata": {},
   "outputs": [],
   "source": [
    "import numpy as np"
   ]
  },
  {
   "cell_type": "code",
   "execution_count": 17,
   "metadata": {},
   "outputs": [],
   "source": [
    "from sklearn.preprocessing import MinMaxScaler"
   ]
  },
  {
   "cell_type": "code",
   "execution_count": 19,
   "metadata": {},
   "outputs": [],
   "source": [
    "scaler = MinMaxScaler(feature_range=(0,1))\n",
    "df1 = scaler.fit_transform(np.array(df1).reshape(-1, 1))"
   ]
  },
  {
   "cell_type": "code",
   "execution_count": 20,
   "metadata": {},
   "outputs": [
    {
     "data": {
      "text/plain": [
       "(2694, 1)"
      ]
     },
     "execution_count": 20,
     "metadata": {},
     "output_type": "execute_result"
    }
   ],
   "source": [
    "df1.shape"
   ]
  },
  {
   "cell_type": "code",
   "execution_count": 21,
   "metadata": {},
   "outputs": [
    {
     "data": {
      "text/plain": [
       "array([[0.20818545],\n",
       "       [0.20970127],\n",
       "       [0.20629991],\n",
       "       ...,\n",
       "       [0.06987578],\n",
       "       [0.07098492],\n",
       "       [0.07283348]])"
      ]
     },
     "execution_count": 21,
     "metadata": {},
     "output_type": "execute_result"
    }
   ],
   "source": [
    "df1"
   ]
  },
  {
   "cell_type": "code",
   "execution_count": 22,
   "metadata": {},
   "outputs": [],
   "source": [
    "### Splitting data set into train and test split\n",
    "training_size = int(len(df1) * 0.65)\n",
    "test_size = len(df1) - training_size\n",
    "train_data, test_data = df1[0:training_size,:],df1[training_size:len(df1), :1]"
   ]
  },
  {
   "cell_type": "code",
   "execution_count": 23,
   "metadata": {},
   "outputs": [
    {
     "data": {
      "text/plain": [
       "(1751, 943)"
      ]
     },
     "execution_count": 23,
     "metadata": {},
     "output_type": "execute_result"
    }
   ],
   "source": [
    "training_size, test_size"
   ]
  },
  {
   "cell_type": "code",
   "execution_count": 25,
   "metadata": {},
   "outputs": [],
   "source": [
    "import numpy\n",
    "\n",
    "# Convert an array of values into a dataset matrix\n",
    "def create_dataset(dataset, time_step=1):\n",
    "    dataX, dataY = [], []\n",
    "    for i in range(len(dataset) - time_step - 1):\n",
    "        a = dataset[i : (i + time_step)] ### i = 0, 0,1,2,3\n",
    "        dataX.append(a)\n",
    "        dataY.append(dataset[i + time_step, 0])\n",
    "    return numpy.array(dataX), numpy.array(dataY)"
   ]
  },
  {
   "cell_type": "code",
   "execution_count": 26,
   "metadata": {},
   "outputs": [],
   "source": [
    "time_step = 100\n",
    "x_train, y_train = create_dataset(train_data, time_step)\n",
    "x_test, y_test = create_dataset(test_data, time_step)"
   ]
  },
  {
   "cell_type": "code",
   "execution_count": 27,
   "metadata": {},
   "outputs": [
    {
     "name": "stdout",
     "output_type": "stream",
     "text": [
      "[[[0.20818545]\n",
      "  [0.20970127]\n",
      "  [0.20629991]\n",
      "  ...\n",
      "  [0.46029281]\n",
      "  [0.45947944]\n",
      "  [0.45781573]]\n",
      "\n",
      " [[0.20970127]\n",
      "  [0.20629991]\n",
      "  [0.20933156]\n",
      "  ...\n",
      "  [0.45947944]\n",
      "  [0.45781573]\n",
      "  [0.45533866]]\n",
      "\n",
      " [[0.20629991]\n",
      "  [0.20933156]\n",
      "  [0.21232623]\n",
      "  ...\n",
      "  [0.45781573]\n",
      "  [0.45533866]\n",
      "  [0.45079119]]\n",
      "\n",
      " ...\n",
      "\n",
      " [[0.68995859]\n",
      "  [0.68533718]\n",
      "  [0.68071576]\n",
      "  ...\n",
      "  [0.68759243]\n",
      "  [0.68444987]\n",
      "  [0.68444987]]\n",
      "\n",
      " [[0.68533718]\n",
      "  [0.68071576]\n",
      "  [0.67916297]\n",
      "  ...\n",
      "  [0.68444987]\n",
      "  [0.68444987]\n",
      "  [0.68725969]]\n",
      "\n",
      " [[0.68071576]\n",
      "  [0.67916297]\n",
      "  [0.6637829 ]\n",
      "  ...\n",
      "  [0.68444987]\n",
      "  [0.68725969]\n",
      "  [0.69069802]]]\n",
      "[0.45533866 0.45079119 0.44912748 ... 0.68725969 0.69069802 0.7104407 ]\n"
     ]
    },
    {
     "data": {
      "text/plain": [
       "(None, None)"
      ]
     },
     "execution_count": 27,
     "metadata": {},
     "output_type": "execute_result"
    }
   ],
   "source": [
    "print(x_train), print(y_train)"
   ]
  },
  {
   "cell_type": "code",
   "execution_count": 28,
   "metadata": {},
   "outputs": [
    {
     "name": "stdout",
     "output_type": "stream",
     "text": [
      "(1650, 100, 1)\n",
      "(1650,)\n"
     ]
    },
    {
     "data": {
      "text/plain": [
       "(None, None)"
      ]
     },
     "execution_count": 28,
     "metadata": {},
     "output_type": "execute_result"
    }
   ],
   "source": [
    "print(x_train.shape), print(y_train.shape)"
   ]
  },
  {
   "cell_type": "code",
   "execution_count": 29,
   "metadata": {},
   "outputs": [
    {
     "name": "stdout",
     "output_type": "stream",
     "text": [
      "(842, 100, 1)\n",
      "(842,)\n"
     ]
    },
    {
     "data": {
      "text/plain": [
       "(None, None)"
      ]
     },
     "execution_count": 29,
     "metadata": {},
     "output_type": "execute_result"
    }
   ],
   "source": [
    "print(x_test.shape), print(y_test.shape)"
   ]
  },
  {
   "cell_type": "code",
   "execution_count": 30,
   "metadata": {},
   "outputs": [],
   "source": [
    "### Before implementing any kind of LSTM, x_train have to reshape to be [samples, time steps, features] which is required for LSTM\n",
    "x_train = x_train.reshape(x_train.shape[0], x_train.shape[1], 1)\n",
    "x_test = x_test.reshape(x_test.shape[0], x_test.shape[1], 1)"
   ]
  },
  {
   "cell_type": "code",
   "execution_count": 31,
   "metadata": {},
   "outputs": [],
   "source": [
    "### Create the stacked LSTM model\n",
    "from tensorflow.keras.models import Sequential\n",
    "from tensorflow.keras.layers import Dense\n",
    "from tensorflow.keras.layers import LSTM"
   ]
  },
  {
   "cell_type": "code",
   "execution_count": 32,
   "metadata": {},
   "outputs": [],
   "source": [
    "model = Sequential()\n",
    "model.add(LSTM(50, return_sequences=True, input_shape=(100,1)))\n",
    "model.add(LSTM(50, return_sequences=True))\n",
    "model.add(LSTM(50))\n",
    "model.add(Dense(1))\n",
    "model.compile(loss=\"mean_squared_error\", optimizer=\"adam\")"
   ]
  },
  {
   "cell_type": "code",
   "execution_count": 33,
   "metadata": {},
   "outputs": [
    {
     "name": "stdout",
     "output_type": "stream",
     "text": [
      "Model: \"sequential\"\n",
      "_________________________________________________________________\n",
      "Layer (type)                 Output Shape              Param #   \n",
      "=================================================================\n",
      "lstm (LSTM)                  (None, 100, 50)           10400     \n",
      "_________________________________________________________________\n",
      "lstm_1 (LSTM)                (None, 100, 50)           20200     \n",
      "_________________________________________________________________\n",
      "lstm_2 (LSTM)                (None, 50)                20200     \n",
      "_________________________________________________________________\n",
      "dense (Dense)                (None, 1)                 51        \n",
      "=================================================================\n",
      "Total params: 50,851\n",
      "Trainable params: 50,851\n",
      "Non-trainable params: 0\n",
      "_________________________________________________________________\n"
     ]
    }
   ],
   "source": [
    "model.summary()"
   ]
  },
  {
   "cell_type": "code",
   "execution_count": 34,
   "metadata": {},
   "outputs": [
    {
     "name": "stdout",
     "output_type": "stream",
     "text": [
      "Epoch 1/100\n",
      "26/26 [==============================] - 26s 499ms/step - loss: 0.0400 - val_loss: 0.0240\n",
      "Epoch 2/100\n",
      "26/26 [==============================] - 9s 343ms/step - loss: 0.0035 - val_loss: 0.0191\n",
      "Epoch 3/100\n",
      "26/26 [==============================] - 10s 371ms/step - loss: 0.0020 - val_loss: 0.0139\n",
      "Epoch 4/100\n",
      "26/26 [==============================] - 10s 393ms/step - loss: 0.0016 - val_loss: 0.0096\n",
      "Epoch 5/100\n",
      "26/26 [==============================] - 10s 369ms/step - loss: 0.0013 - val_loss: 0.0071\n",
      "Epoch 6/100\n",
      "26/26 [==============================] - 10s 371ms/step - loss: 0.0012 - val_loss: 0.0060\n",
      "Epoch 7/100\n",
      "26/26 [==============================] - 10s 370ms/step - loss: 0.0011 - val_loss: 0.0055\n",
      "Epoch 8/100\n",
      "26/26 [==============================] - 10s 374ms/step - loss: 0.0012 - val_loss: 0.0052\n",
      "Epoch 9/100\n",
      "26/26 [==============================] - 10s 391ms/step - loss: 0.0011 - val_loss: 0.0052\n",
      "Epoch 10/100\n",
      "26/26 [==============================] - 10s 385ms/step - loss: 0.0011 - val_loss: 0.0051\n",
      "Epoch 11/100\n",
      "26/26 [==============================] - 10s 384ms/step - loss: 0.0011 - val_loss: 0.0050\n",
      "Epoch 12/100\n",
      "26/26 [==============================] - 10s 385ms/step - loss: 0.0010 - val_loss: 0.0050\n",
      "Epoch 13/100\n",
      "26/26 [==============================] - 10s 371ms/step - loss: 9.8002e-04 - val_loss: 0.0050\n",
      "Epoch 14/100\n",
      "26/26 [==============================] - 10s 374ms/step - loss: 9.4570e-04 - val_loss: 0.0050\n",
      "Epoch 15/100\n",
      "26/26 [==============================] - 10s 377ms/step - loss: 9.5183e-04 - val_loss: 0.0049\n",
      "Epoch 16/100\n",
      "26/26 [==============================] - 10s 374ms/step - loss: 8.7416e-04 - val_loss: 0.0048\n",
      "Epoch 17/100\n",
      "26/26 [==============================] - 10s 369ms/step - loss: 8.2816e-04 - val_loss: 0.0045\n",
      "Epoch 18/100\n",
      "26/26 [==============================] - 10s 373ms/step - loss: 8.9256e-04 - val_loss: 0.0043\n",
      "Epoch 19/100\n",
      "26/26 [==============================] - 10s 374ms/step - loss: 7.9800e-04 - val_loss: 0.0042\n",
      "Epoch 20/100\n",
      "26/26 [==============================] - 10s 373ms/step - loss: 7.5296e-04 - val_loss: 0.0041\n",
      "Epoch 21/100\n",
      "26/26 [==============================] - 10s 373ms/step - loss: 8.0278e-04 - val_loss: 0.0040\n",
      "Epoch 22/100\n",
      "26/26 [==============================] - 10s 380ms/step - loss: 8.4574e-04 - val_loss: 0.0040\n",
      "Epoch 23/100\n",
      "26/26 [==============================] - 12s 475ms/step - loss: 7.8882e-04 - val_loss: 0.0041\n",
      "Epoch 24/100\n",
      "26/26 [==============================] - 9s 346ms/step - loss: 7.4751e-04 - val_loss: 0.0039\n",
      "Epoch 25/100\n",
      "26/26 [==============================] - 8s 307ms/step - loss: 6.7803e-04 - val_loss: 0.0039\n",
      "Epoch 26/100\n",
      "26/26 [==============================] - 7s 279ms/step - loss: 6.8040e-04 - val_loss: 0.0036\n",
      "Epoch 27/100\n",
      "26/26 [==============================] - 7s 271ms/step - loss: 6.7662e-04 - val_loss: 0.0036\n",
      "Epoch 28/100\n",
      "26/26 [==============================] - 7s 272ms/step - loss: 6.7451e-04 - val_loss: 0.0036\n",
      "Epoch 29/100\n",
      "26/26 [==============================] - 7s 275ms/step - loss: 6.7800e-04 - val_loss: 0.0035\n",
      "Epoch 30/100\n",
      "26/26 [==============================] - 7s 273ms/step - loss: 7.0258e-04 - val_loss: 0.0035\n",
      "Epoch 31/100\n",
      "26/26 [==============================] - 7s 271ms/step - loss: 6.5788e-04 - val_loss: 0.0033\n",
      "Epoch 32/100\n",
      "26/26 [==============================] - 7s 271ms/step - loss: 6.4158e-04 - val_loss: 0.0034\n",
      "Epoch 33/100\n",
      "26/26 [==============================] - 7s 271ms/step - loss: 6.2216e-04 - val_loss: 0.0033\n",
      "Epoch 34/100\n",
      "26/26 [==============================] - 7s 285ms/step - loss: 6.6125e-04 - val_loss: 0.0032\n",
      "Epoch 35/100\n",
      "26/26 [==============================] - 7s 275ms/step - loss: 6.6065e-04 - val_loss: 0.0032\n",
      "Epoch 36/100\n",
      "26/26 [==============================] - 7s 274ms/step - loss: 5.9187e-04 - val_loss: 0.0033\n",
      "Epoch 37/100\n",
      "26/26 [==============================] - 7s 277ms/step - loss: 7.6447e-04 - val_loss: 0.0033\n",
      "Epoch 38/100\n",
      "26/26 [==============================] - 7s 276ms/step - loss: 5.9572e-04 - val_loss: 0.0031\n",
      "Epoch 39/100\n",
      "26/26 [==============================] - 7s 274ms/step - loss: 5.7484e-04 - val_loss: 0.0030\n",
      "Epoch 40/100\n",
      "26/26 [==============================] - 7s 275ms/step - loss: 5.7938e-04 - val_loss: 0.0030\n",
      "Epoch 41/100\n",
      "26/26 [==============================] - 7s 276ms/step - loss: 6.2386e-04 - val_loss: 0.0030\n",
      "Epoch 42/100\n",
      "26/26 [==============================] - 7s 277ms/step - loss: 6.0257e-04 - val_loss: 0.0030\n",
      "Epoch 43/100\n",
      "26/26 [==============================] - 7s 280ms/step - loss: 5.6729e-04 - val_loss: 0.0029\n",
      "Epoch 44/100\n",
      "26/26 [==============================] - 7s 275ms/step - loss: 5.7988e-04 - val_loss: 0.0030\n",
      "Epoch 45/100\n",
      "26/26 [==============================] - 7s 276ms/step - loss: 5.7697e-04 - val_loss: 0.0029\n",
      "Epoch 46/100\n",
      "26/26 [==============================] - 7s 280ms/step - loss: 5.5541e-04 - val_loss: 0.0027\n",
      "Epoch 47/100\n",
      "26/26 [==============================] - 7s 274ms/step - loss: 5.3690e-04 - val_loss: 0.0027\n",
      "Epoch 48/100\n",
      "26/26 [==============================] - 7s 275ms/step - loss: 5.3072e-04 - val_loss: 0.0026\n",
      "Epoch 49/100\n",
      "26/26 [==============================] - 7s 284ms/step - loss: 5.7015e-04 - val_loss: 0.0027\n",
      "Epoch 50/100\n",
      "26/26 [==============================] - 7s 275ms/step - loss: 5.7132e-04 - val_loss: 0.0028\n",
      "Epoch 51/100\n",
      "26/26 [==============================] - 7s 277ms/step - loss: 4.8815e-04 - val_loss: 0.0027\n",
      "Epoch 52/100\n",
      "26/26 [==============================] - 7s 275ms/step - loss: 5.5178e-04 - val_loss: 0.0026\n",
      "Epoch 53/100\n",
      "26/26 [==============================] - 7s 276ms/step - loss: 5.0616e-04 - val_loss: 0.0025\n",
      "Epoch 54/100\n",
      "26/26 [==============================] - 7s 276ms/step - loss: 4.7347e-04 - val_loss: 0.0024\n",
      "Epoch 55/100\n",
      "26/26 [==============================] - 7s 277ms/step - loss: 4.8718e-04 - val_loss: 0.0024\n",
      "Epoch 56/100\n",
      "26/26 [==============================] - 7s 286ms/step - loss: 4.6284e-04 - val_loss: 0.0024\n",
      "Epoch 57/100\n",
      "26/26 [==============================] - 7s 276ms/step - loss: 4.7945e-04 - val_loss: 0.0023\n",
      "Epoch 58/100\n",
      "26/26 [==============================] - 7s 277ms/step - loss: 4.5765e-04 - val_loss: 0.0022\n",
      "Epoch 59/100\n",
      "26/26 [==============================] - 7s 276ms/step - loss: 4.2410e-04 - val_loss: 0.0023\n",
      "Epoch 60/100\n",
      "26/26 [==============================] - 7s 287ms/step - loss: 4.2087e-04 - val_loss: 0.0022\n",
      "Epoch 61/100\n",
      "26/26 [==============================] - 7s 288ms/step - loss: 4.3947e-04 - val_loss: 0.0022\n",
      "Epoch 62/100\n",
      "26/26 [==============================] - 7s 281ms/step - loss: 4.6465e-04 - val_loss: 0.0022\n",
      "Epoch 63/100\n",
      "26/26 [==============================] - 7s 275ms/step - loss: 4.3497e-04 - val_loss: 0.0021\n",
      "Epoch 64/100\n",
      "26/26 [==============================] - 7s 276ms/step - loss: 4.1899e-04 - val_loss: 0.0021\n",
      "Epoch 65/100\n",
      "26/26 [==============================] - 7s 282ms/step - loss: 4.5701e-04 - val_loss: 0.0021\n",
      "Epoch 66/100\n",
      "26/26 [==============================] - 7s 276ms/step - loss: 3.9419e-04 - val_loss: 0.0021\n",
      "Epoch 67/100\n",
      "26/26 [==============================] - 7s 277ms/step - loss: 5.1927e-04 - val_loss: 0.0023\n",
      "Epoch 68/100\n",
      "26/26 [==============================] - 7s 278ms/step - loss: 3.9436e-04 - val_loss: 0.0019\n",
      "Epoch 69/100\n",
      "26/26 [==============================] - 7s 276ms/step - loss: 3.7119e-04 - val_loss: 0.0018\n",
      "Epoch 70/100\n",
      "26/26 [==============================] - 7s 279ms/step - loss: 3.6628e-04 - val_loss: 0.0018\n",
      "Epoch 71/100\n",
      "26/26 [==============================] - 7s 277ms/step - loss: 3.5608e-04 - val_loss: 0.0018\n",
      "Epoch 72/100\n",
      "26/26 [==============================] - 7s 277ms/step - loss: 4.1239e-04 - val_loss: 0.0018\n",
      "Epoch 73/100\n",
      "26/26 [==============================] - 7s 278ms/step - loss: 3.5299e-04 - val_loss: 0.0018\n",
      "Epoch 74/100\n",
      "26/26 [==============================] - 7s 277ms/step - loss: 3.4743e-04 - val_loss: 0.0017\n",
      "Epoch 75/100\n",
      "26/26 [==============================] - 7s 266ms/step - loss: 3.4908e-04 - val_loss: 0.0017\n",
      "Epoch 76/100\n",
      "26/26 [==============================] - 6s 238ms/step - loss: 3.3174e-04 - val_loss: 0.0016\n",
      "Epoch 77/100\n",
      "26/26 [==============================] - 6s 235ms/step - loss: 3.3067e-04 - val_loss: 0.0016\n",
      "Epoch 78/100\n"
     ]
    },
    {
     "name": "stdout",
     "output_type": "stream",
     "text": [
      "26/26 [==============================] - 6s 231ms/step - loss: 3.0993e-04 - val_loss: 0.0015\n",
      "Epoch 79/100\n",
      "26/26 [==============================] - 6s 235ms/step - loss: 3.0696e-04 - val_loss: 0.0017\n",
      "Epoch 80/100\n",
      "26/26 [==============================] - 6s 233ms/step - loss: 3.4033e-04 - val_loss: 0.0015\n",
      "Epoch 81/100\n",
      "26/26 [==============================] - 6s 232ms/step - loss: 3.9157e-04 - val_loss: 0.0015\n",
      "Epoch 82/100\n",
      "26/26 [==============================] - 6s 232ms/step - loss: 3.2960e-04 - val_loss: 0.0014\n",
      "Epoch 83/100\n",
      "26/26 [==============================] - 6s 232ms/step - loss: 2.8210e-04 - val_loss: 0.0015\n",
      "Epoch 84/100\n",
      "26/26 [==============================] - 7s 272ms/step - loss: 3.1264e-04 - val_loss: 0.0015\n",
      "Epoch 85/100\n",
      "26/26 [==============================] - 7s 271ms/step - loss: 2.7268e-04 - val_loss: 0.0013\n",
      "Epoch 86/100\n",
      "26/26 [==============================] - 7s 274ms/step - loss: 3.0131e-04 - val_loss: 0.0013\n",
      "Epoch 87/100\n",
      "26/26 [==============================] - 7s 272ms/step - loss: 3.0812e-04 - val_loss: 0.0014\n",
      "Epoch 88/100\n",
      "26/26 [==============================] - 7s 272ms/step - loss: 3.6213e-04 - val_loss: 0.0014\n",
      "Epoch 89/100\n",
      "26/26 [==============================] - 7s 274ms/step - loss: 2.5687e-04 - val_loss: 0.0013\n",
      "Epoch 90/100\n",
      "26/26 [==============================] - 7s 280ms/step - loss: 2.8383e-04 - val_loss: 0.0013\n",
      "Epoch 91/100\n",
      "26/26 [==============================] - 7s 273ms/step - loss: 2.4733e-04 - val_loss: 0.0012\n",
      "Epoch 92/100\n",
      "26/26 [==============================] - 7s 284ms/step - loss: 2.5371e-04 - val_loss: 0.0014\n",
      "Epoch 93/100\n",
      "26/26 [==============================] - 7s 281ms/step - loss: 2.8331e-04 - val_loss: 0.0012\n",
      "Epoch 94/100\n",
      "26/26 [==============================] - 7s 276ms/step - loss: 2.3184e-04 - val_loss: 0.0012\n",
      "Epoch 95/100\n",
      "26/26 [==============================] - 7s 275ms/step - loss: 3.1232e-04 - val_loss: 0.0013\n",
      "Epoch 96/100\n",
      "26/26 [==============================] - 7s 274ms/step - loss: 2.6550e-04 - val_loss: 0.0011\n",
      "Epoch 97/100\n",
      "26/26 [==============================] - 7s 278ms/step - loss: 2.8194e-04 - val_loss: 0.0012\n",
      "Epoch 98/100\n",
      "26/26 [==============================] - 7s 274ms/step - loss: 2.2272e-04 - val_loss: 0.0011\n",
      "Epoch 99/100\n",
      "26/26 [==============================] - 7s 273ms/step - loss: 2.3191e-04 - val_loss: 0.0011\n",
      "Epoch 100/100\n",
      "26/26 [==============================] - 7s 274ms/step - loss: 2.3837e-04 - val_loss: 0.0011\n"
     ]
    },
    {
     "data": {
      "text/plain": [
       "<tensorflow.python.keras.callbacks.History at 0x27929858d60>"
      ]
     },
     "execution_count": 34,
     "metadata": {},
     "output_type": "execute_result"
    }
   ],
   "source": [
    "model.fit(x_train, y_train, validation_data=(x_test, y_test), epochs=100, batch_size=64, verbose=1)"
   ]
  },
  {
   "cell_type": "code",
   "execution_count": 35,
   "metadata": {},
   "outputs": [],
   "source": [
    "import tensorflow as tf"
   ]
  },
  {
   "cell_type": "code",
   "execution_count": 36,
   "metadata": {},
   "outputs": [
    {
     "data": {
      "text/plain": [
       "'2.5.0'"
      ]
     },
     "execution_count": 36,
     "metadata": {},
     "output_type": "execute_result"
    }
   ],
   "source": [
    "tf.__version__"
   ]
  },
  {
   "cell_type": "code",
   "execution_count": 47,
   "metadata": {},
   "outputs": [],
   "source": [
    "### Lets do the prediction and check performance matrics\n",
    "train_predict = model.predict(x_train)\n",
    "test_predict = model.predict(x_test)"
   ]
  },
  {
   "cell_type": "code",
   "execution_count": 56,
   "metadata": {},
   "outputs": [],
   "source": [
    "### Teansform to original form\n",
    "train_predict = scaler.inverse_transform(train_predict)\n",
    "test_predict = scaler.inverse_transform(test_predict)"
   ]
  },
  {
   "cell_type": "code",
   "execution_count": 62,
   "metadata": {},
   "outputs": [
    {
     "data": {
      "text/plain": [
       "0.18367452626804925"
      ]
     },
     "execution_count": 62,
     "metadata": {},
     "output_type": "execute_result"
    }
   ],
   "source": [
    "import math\n",
    "from sklearn.metrics import mean_squared_error\n",
    "math.sqrt(mean_squared_error(y_train, train_predict))"
   ]
  },
  {
   "cell_type": "code",
   "execution_count": 63,
   "metadata": {},
   "outputs": [
    {
     "data": {
      "text/plain": [
       "0.03381078399391425"
      ]
     },
     "execution_count": 63,
     "metadata": {},
     "output_type": "execute_result"
    }
   ],
   "source": [
    "### Test data RMSE\n",
    "math.sqrt(mean_squared_error(y_test, test_predict))"
   ]
  },
  {
   "cell_type": "code",
   "execution_count": 64,
   "metadata": {},
   "outputs": [
    {
     "data": {
      "image/png": "[encoded data removed]",
      "text/plain": [
       "<Figure size 432x288 with 1 Axes>"
      ]
     },
     "metadata": {
      "needs_background": "light"
     },
     "output_type": "display_data"
    }
   ],
   "source": [
    "### Plotting\n",
    "### Shift train prediction for plotting\n",
    "look_back = 100\n",
    "trainPredictPlot = numpy.empty_like(df1)\n",
    "trainPredictPlot[:, :] = np.nan\n",
    "trainPredictPlot[look_back : len(train_predict) + look_back, :] = train_predict\n",
    "### Shift test predictions for plotting\n",
    "testPredictPlot = numpy.empty_like(df1)\n",
    "testPredictPlot[:, :] = numpy.nan\n",
    "testPredictPlot[len(train_predict) + (look_back * 2)+1 : len(df1)-1, :] = test_predict\n",
    "# Plot baseline and prediction\n",
    "plt.plot(scaler.inverse_transform(df1))\n",
    "plt.plot(trainPredictPlot)\n",
    "plt.plot(testPredictPlot)\n",
    "plt.show()"
   ]
  },
  {
   "cell_type": "code",
   "execution_count": 65,
   "metadata": {},
   "outputs": [
    {
     "data": {
      "text/plain": [
       "943"
      ]
     },
     "execution_count": 65,
     "metadata": {},
     "output_type": "execute_result"
    }
   ],
   "source": [
    "len(test_data)"
   ]
  },
  {
   "cell_type": "code",
   "execution_count": 66,
   "metadata": {},
   "outputs": [
    {
     "data": {
      "text/plain": [
       "(1, 100)"
      ]
     },
     "execution_count": 66,
     "metadata": {},
     "output_type": "execute_result"
    }
   ],
   "source": [
    "x_input = test_data[len(test_data) - 100 : ].reshape(1, -1)\n",
    "x_input.shape"
   ]
  },
  {
   "cell_type": "code",
   "execution_count": 67,
   "metadata": {},
   "outputs": [],
   "source": [
    "x_input = test_data[len(test_data) - 100 : ].reshape(1, -1)"
   ]
  },
  {
   "cell_type": "code",
   "execution_count": 68,
   "metadata": {},
   "outputs": [
    {
     "data": {
      "text/plain": [
       "(1, 100)"
      ]
     },
     "execution_count": 68,
     "metadata": {},
     "output_type": "execute_result"
    }
   ],
   "source": [
    "x_input.shape"
   ]
  },
  {
   "cell_type": "code",
   "execution_count": 69,
   "metadata": {},
   "outputs": [],
   "source": [
    "temp_input = list(x_input)\n",
    "temp_input= temp_input[0].tolist()"
   ]
  },
  {
   "cell_type": "code",
   "execution_count": 70,
   "metadata": {},
   "outputs": [
    {
     "data": {
      "text/plain": [
       "[0.04991126885536823,\n",
       " 0.04732327713694173,\n",
       " 0.045104998521147605,\n",
       " 0.04610322389825494,\n",
       " 0.044254658385093154,\n",
       " 0.04299763383614316,\n",
       " 0.04251700680272108,\n",
       " 0.04251700680272108,\n",
       " 0.04055752735876958,\n",
       " 0.03907867494824016,\n",
       " 0.03992901508429458,\n",
       " 0.04214729370008871,\n",
       " 0.04373706004140787,\n",
       " 0.044254658385093154,\n",
       " 0.04806270334220644,\n",
       " 0.05175983436853002,\n",
       " 0.05386719905353446,\n",
       " 0.05261017450458444,\n",
       " 0.05238834664300504,\n",
       " 0.052684117125110924,\n",
       " 0.05175983436853002,\n",
       " 0.05053978112984325,\n",
       " 0.04898698609878735,\n",
       " 0.05423691215616683,\n",
       " 0.059154096421177166,\n",
       " 0.07394262052647146,\n",
       " 0.08196539485359361,\n",
       " 0.08255693581780538,\n",
       " 0.08011682934043182,\n",
       " 0.09242827565808931,\n",
       " 0.08751109139307897,\n",
       " 0.0838139603667554,\n",
       " 0.12817953268263826,\n",
       " 0.11830819284235433,\n",
       " 0.10167110322389825,\n",
       " 0.10045104998521148,\n",
       " 0.09734545992309968,\n",
       " 0.08625406684412895,\n",
       " 0.0838139603667554,\n",
       " 0.08011682934043182,\n",
       " 0.08196539485359361,\n",
       " 0.09242827565808931,\n",
       " 0.08566252587991718,\n",
       " 0.08104111209701273,\n",
       " 0.07579118603963325,\n",
       " 0.07516267376515823,\n",
       " 0.07516267376515823,\n",
       " 0.07331410825199644,\n",
       " 0.06776841171251108,\n",
       " 0.06776841171251108,\n",
       " 0.07024548950014789,\n",
       " 0.07054125998225377,\n",
       " 0.0690254362614611,\n",
       " 0.06625258799171843,\n",
       " 0.0640712806861875,\n",
       " 0.0640712806861875,\n",
       " 0.06717687074829931,\n",
       " 0.0690254362614611,\n",
       " 0.06776841171251108,\n",
       " 0.06869269446909199,\n",
       " 0.0690254362614611,\n",
       " 0.0683969239869861,\n",
       " 0.0683969239869861,\n",
       " 0.06765749778172137,\n",
       " 0.08096716947648624,\n",
       " 0.08022774327122154,\n",
       " 0.08799171842650103,\n",
       " 0.08762200532386868,\n",
       " 0.08799171842650103,\n",
       " 0.07763975155279504,\n",
       " 0.07579118603963325,\n",
       " 0.07135462880804494,\n",
       " 0.07763975155279504,\n",
       " 0.07727003845016267,\n",
       " 0.08429458740017745,\n",
       " 0.08244602188701566,\n",
       " 0.07948831706595683,\n",
       " 0.07800946465542738,\n",
       " 0.07763975155279504,\n",
       " 0.07579118603963325,\n",
       " 0.06913635019225081,\n",
       " 0.0683969239869861,\n",
       " 0.06654835847382432,\n",
       " 0.06359065365276545,\n",
       " 0.05730553090801538,\n",
       " 0.06137237503697132,\n",
       " 0.0587843833185448,\n",
       " 0.06285122744750074,\n",
       " 0.06100266193433895,\n",
       " 0.06137237503697132,\n",
       " 0.062111801242236,\n",
       " 0.06322094055013311,\n",
       " 0.06654835847382432,\n",
       " 0.062111801242236,\n",
       " 0.062111801242236,\n",
       " 0.06285122744750074,\n",
       " 0.0650695060632949,\n",
       " 0.06987577639751552,\n",
       " 0.0709849157054126,\n",
       " 0.07283348121857439]"
      ]
     },
     "execution_count": 70,
     "metadata": {},
     "output_type": "execute_result"
    }
   ],
   "source": [
    "temp_input"
   ]
  },
  {
   "cell_type": "code",
   "execution_count": 71,
   "metadata": {},
   "outputs": [
    {
     "name": "stdout",
     "output_type": "stream",
     "text": [
      "[0.08621977]\n",
      "101\n",
      "1 day input [0.04732328 0.045105   0.04610322 0.04425466 0.04299763 0.04251701\n",
      " 0.04251701 0.04055753 0.03907867 0.03992902 0.04214729 0.04373706\n",
      " 0.04425466 0.0480627  0.05175983 0.0538672  0.05261017 0.05238835\n",
      " 0.05268412 0.05175983 0.05053978 0.04898699 0.05423691 0.0591541\n",
      " 0.07394262 0.08196539 0.08255694 0.08011683 0.09242828 0.08751109\n",
      " 0.08381396 0.12817953 0.11830819 0.1016711  0.10045105 0.09734546\n",
      " 0.08625407 0.08381396 0.08011683 0.08196539 0.09242828 0.08566253\n",
      " 0.08104111 0.07579119 0.07516267 0.07516267 0.07331411 0.06776841\n",
      " 0.06776841 0.07024549 0.07054126 0.06902544 0.06625259 0.06407128\n",
      " 0.06407128 0.06717687 0.06902544 0.06776841 0.06869269 0.06902544\n",
      " 0.06839692 0.06839692 0.0676575  0.08096717 0.08022774 0.08799172\n",
      " 0.08762201 0.08799172 0.07763975 0.07579119 0.07135463 0.07763975\n",
      " 0.07727004 0.08429459 0.08244602 0.07948832 0.07800946 0.07763975\n",
      " 0.07579119 0.06913635 0.06839692 0.06654836 0.06359065 0.05730553\n",
      " 0.06137238 0.05878438 0.06285123 0.06100266 0.06137238 0.0621118\n",
      " 0.06322094 0.06654836 0.0621118  0.0621118  0.06285123 0.06506951\n",
      " 0.06987578 0.07098492 0.07283348 0.08621977]\n",
      "1 day output [[0.08825966]]\n",
      "2 day input [0.045105   0.04610322 0.04425466 0.04299763 0.04251701 0.04251701\n",
      " 0.04055753 0.03907867 0.03992902 0.04214729 0.04373706 0.04425466\n",
      " 0.0480627  0.05175983 0.0538672  0.05261017 0.05238835 0.05268412\n",
      " 0.05175983 0.05053978 0.04898699 0.05423691 0.0591541  0.07394262\n",
      " 0.08196539 0.08255694 0.08011683 0.09242828 0.08751109 0.08381396\n",
      " 0.12817953 0.11830819 0.1016711  0.10045105 0.09734546 0.08625407\n",
      " 0.08381396 0.08011683 0.08196539 0.09242828 0.08566253 0.08104111\n",
      " 0.07579119 0.07516267 0.07516267 0.07331411 0.06776841 0.06776841\n",
      " 0.07024549 0.07054126 0.06902544 0.06625259 0.06407128 0.06407128\n",
      " 0.06717687 0.06902544 0.06776841 0.06869269 0.06902544 0.06839692\n",
      " 0.06839692 0.0676575  0.08096717 0.08022774 0.08799172 0.08762201\n",
      " 0.08799172 0.07763975 0.07579119 0.07135463 0.07763975 0.07727004\n",
      " 0.08429459 0.08244602 0.07948832 0.07800946 0.07763975 0.07579119\n",
      " 0.06913635 0.06839692 0.06654836 0.06359065 0.05730553 0.06137238\n",
      " 0.05878438 0.06285123 0.06100266 0.06137238 0.0621118  0.06322094\n",
      " 0.06654836 0.0621118  0.0621118  0.06285123 0.06506951 0.06987578\n",
      " 0.07098492 0.07283348 0.08621977 0.08825966]\n",
      "2 day output [[0.0910963]]\n",
      "3 day input [0.04610322 0.04425466 0.04299763 0.04251701 0.04251701 0.04055753\n",
      " 0.03907867 0.03992902 0.04214729 0.04373706 0.04425466 0.0480627\n",
      " 0.05175983 0.0538672  0.05261017 0.05238835 0.05268412 0.05175983\n",
      " 0.05053978 0.04898699 0.05423691 0.0591541  0.07394262 0.08196539\n",
      " 0.08255694 0.08011683 0.09242828 0.08751109 0.08381396 0.12817953\n",
      " 0.11830819 0.1016711  0.10045105 0.09734546 0.08625407 0.08381396\n",
      " 0.08011683 0.08196539 0.09242828 0.08566253 0.08104111 0.07579119\n",
      " 0.07516267 0.07516267 0.07331411 0.06776841 0.06776841 0.07024549\n",
      " 0.07054126 0.06902544 0.06625259 0.06407128 0.06407128 0.06717687\n",
      " 0.06902544 0.06776841 0.06869269 0.06902544 0.06839692 0.06839692\n",
      " 0.0676575  0.08096717 0.08022774 0.08799172 0.08762201 0.08799172\n",
      " 0.07763975 0.07579119 0.07135463 0.07763975 0.07727004 0.08429459\n",
      " 0.08244602 0.07948832 0.07800946 0.07763975 0.07579119 0.06913635\n",
      " 0.06839692 0.06654836 0.06359065 0.05730553 0.06137238 0.05878438\n",
      " 0.06285123 0.06100266 0.06137238 0.0621118  0.06322094 0.06654836\n",
      " 0.0621118  0.0621118  0.06285123 0.06506951 0.06987578 0.07098492\n",
      " 0.07283348 0.08621977 0.08825966 0.0910963 ]\n",
      "3 day output [[0.09451821]]\n",
      "4 day input [0.04425466 0.04299763 0.04251701 0.04251701 0.04055753 0.03907867\n",
      " 0.03992902 0.04214729 0.04373706 0.04425466 0.0480627  0.05175983\n",
      " 0.0538672  0.05261017 0.05238835 0.05268412 0.05175983 0.05053978\n",
      " 0.04898699 0.05423691 0.0591541  0.07394262 0.08196539 0.08255694\n",
      " 0.08011683 0.09242828 0.08751109 0.08381396 0.12817953 0.11830819\n",
      " 0.1016711  0.10045105 0.09734546 0.08625407 0.08381396 0.08011683\n",
      " 0.08196539 0.09242828 0.08566253 0.08104111 0.07579119 0.07516267\n",
      " 0.07516267 0.07331411 0.06776841 0.06776841 0.07024549 0.07054126\n",
      " 0.06902544 0.06625259 0.06407128 0.06407128 0.06717687 0.06902544\n",
      " 0.06776841 0.06869269 0.06902544 0.06839692 0.06839692 0.0676575\n",
      " 0.08096717 0.08022774 0.08799172 0.08762201 0.08799172 0.07763975\n",
      " 0.07579119 0.07135463 0.07763975 0.07727004 0.08429459 0.08244602\n",
      " 0.07948832 0.07800946 0.07763975 0.07579119 0.06913635 0.06839692\n",
      " 0.06654836 0.06359065 0.05730553 0.06137238 0.05878438 0.06285123\n",
      " 0.06100266 0.06137238 0.0621118  0.06322094 0.06654836 0.0621118\n",
      " 0.0621118  0.06285123 0.06506951 0.06987578 0.07098492 0.07283348\n",
      " 0.08621977 0.08825966 0.0910963  0.09451821]\n",
      "4 day output [[0.09829984]]\n",
      "5 day input [0.04299763 0.04251701 0.04251701 0.04055753 0.03907867 0.03992902\n",
      " 0.04214729 0.04373706 0.04425466 0.0480627  0.05175983 0.0538672\n",
      " 0.05261017 0.05238835 0.05268412 0.05175983 0.05053978 0.04898699\n",
      " 0.05423691 0.0591541  0.07394262 0.08196539 0.08255694 0.08011683\n",
      " 0.09242828 0.08751109 0.08381396 0.12817953 0.11830819 0.1016711\n",
      " 0.10045105 0.09734546 0.08625407 0.08381396 0.08011683 0.08196539\n",
      " 0.09242828 0.08566253 0.08104111 0.07579119 0.07516267 0.07516267\n",
      " 0.07331411 0.06776841 0.06776841 0.07024549 0.07054126 0.06902544\n",
      " 0.06625259 0.06407128 0.06407128 0.06717687 0.06902544 0.06776841\n",
      " 0.06869269 0.06902544 0.06839692 0.06839692 0.0676575  0.08096717\n",
      " 0.08022774 0.08799172 0.08762201 0.08799172 0.07763975 0.07579119\n",
      " 0.07135463 0.07763975 0.07727004 0.08429459 0.08244602 0.07948832\n",
      " 0.07800946 0.07763975 0.07579119 0.06913635 0.06839692 0.06654836\n",
      " 0.06359065 0.05730553 0.06137238 0.05878438 0.06285123 0.06100266\n",
      " 0.06137238 0.0621118  0.06322094 0.06654836 0.0621118  0.0621118\n",
      " 0.06285123 0.06506951 0.06987578 0.07098492 0.07283348 0.08621977\n",
      " 0.08825966 0.0910963  0.09451821 0.09829984]\n",
      "5 day output [[0.10226572]]\n",
      "6 day input [0.04251701 0.04251701 0.04055753 0.03907867 0.03992902 0.04214729\n",
      " 0.04373706 0.04425466 0.0480627  0.05175983 0.0538672  0.05261017\n",
      " 0.05238835 0.05268412 0.05175983 0.05053978 0.04898699 0.05423691\n",
      " 0.0591541  0.07394262 0.08196539 0.08255694 0.08011683 0.09242828\n",
      " 0.08751109 0.08381396 0.12817953 0.11830819 0.1016711  0.10045105\n",
      " 0.09734546 0.08625407 0.08381396 0.08011683 0.08196539 0.09242828\n",
      " 0.08566253 0.08104111 0.07579119 0.07516267 0.07516267 0.07331411\n",
      " 0.06776841 0.06776841 0.07024549 0.07054126 0.06902544 0.06625259\n",
      " 0.06407128 0.06407128 0.06717687 0.06902544 0.06776841 0.06869269\n",
      " 0.06902544 0.06839692 0.06839692 0.0676575  0.08096717 0.08022774\n",
      " 0.08799172 0.08762201 0.08799172 0.07763975 0.07579119 0.07135463\n",
      " 0.07763975 0.07727004 0.08429459 0.08244602 0.07948832 0.07800946\n",
      " 0.07763975 0.07579119 0.06913635 0.06839692 0.06654836 0.06359065\n",
      " 0.05730553 0.06137238 0.05878438 0.06285123 0.06100266 0.06137238\n",
      " 0.0621118  0.06322094 0.06654836 0.0621118  0.0621118  0.06285123\n",
      " 0.06506951 0.06987578 0.07098492 0.07283348 0.08621977 0.08825966\n",
      " 0.0910963  0.09451821 0.09829984 0.10226572]\n",
      "6 day output [[0.10630212]]\n",
      "7 day input [0.04251701 0.04055753 0.03907867 0.03992902 0.04214729 0.04373706\n",
      " 0.04425466 0.0480627  0.05175983 0.0538672  0.05261017 0.05238835\n",
      " 0.05268412 0.05175983 0.05053978 0.04898699 0.05423691 0.0591541\n",
      " 0.07394262 0.08196539 0.08255694 0.08011683 0.09242828 0.08751109\n",
      " 0.08381396 0.12817953 0.11830819 0.1016711  0.10045105 0.09734546\n",
      " 0.08625407 0.08381396 0.08011683 0.08196539 0.09242828 0.08566253\n",
      " 0.08104111 0.07579119 0.07516267 0.07516267 0.07331411 0.06776841\n",
      " 0.06776841 0.07024549 0.07054126 0.06902544 0.06625259 0.06407128\n",
      " 0.06407128 0.06717687 0.06902544 0.06776841 0.06869269 0.06902544\n",
      " 0.06839692 0.06839692 0.0676575  0.08096717 0.08022774 0.08799172\n",
      " 0.08762201 0.08799172 0.07763975 0.07579119 0.07135463 0.07763975\n",
      " 0.07727004 0.08429459 0.08244602 0.07948832 0.07800946 0.07763975\n",
      " 0.07579119 0.06913635 0.06839692 0.06654836 0.06359065 0.05730553\n",
      " 0.06137238 0.05878438 0.06285123 0.06100266 0.06137238 0.0621118\n",
      " 0.06322094 0.06654836 0.0621118  0.0621118  0.06285123 0.06506951\n",
      " 0.06987578 0.07098492 0.07283348 0.08621977 0.08825966 0.0910963\n",
      " 0.09451821 0.09829984 0.10226572 0.10630212]\n",
      "7 day output [[0.11034679]]\n",
      "8 day input [0.04055753 0.03907867 0.03992902 0.04214729 0.04373706 0.04425466\n",
      " 0.0480627  0.05175983 0.0538672  0.05261017 0.05238835 0.05268412\n",
      " 0.05175983 0.05053978 0.04898699 0.05423691 0.0591541  0.07394262\n",
      " 0.08196539 0.08255694 0.08011683 0.09242828 0.08751109 0.08381396\n",
      " 0.12817953 0.11830819 0.1016711  0.10045105 0.09734546 0.08625407\n",
      " 0.08381396 0.08011683 0.08196539 0.09242828 0.08566253 0.08104111\n",
      " 0.07579119 0.07516267 0.07516267 0.07331411 0.06776841 0.06776841\n",
      " 0.07024549 0.07054126 0.06902544 0.06625259 0.06407128 0.06407128\n",
      " 0.06717687 0.06902544 0.06776841 0.06869269 0.06902544 0.06839692\n",
      " 0.06839692 0.0676575  0.08096717 0.08022774 0.08799172 0.08762201\n",
      " 0.08799172 0.07763975 0.07579119 0.07135463 0.07763975 0.07727004\n",
      " 0.08429459 0.08244602 0.07948832 0.07800946 0.07763975 0.07579119\n",
      " 0.06913635 0.06839692 0.06654836 0.06359065 0.05730553 0.06137238\n",
      " 0.05878438 0.06285123 0.06100266 0.06137238 0.0621118  0.06322094\n",
      " 0.06654836 0.0621118  0.0621118  0.06285123 0.06506951 0.06987578\n",
      " 0.07098492 0.07283348 0.08621977 0.08825966 0.0910963  0.09451821\n",
      " 0.09829984 0.10226572 0.10630212 0.11034679]\n",
      "8 day output [[0.11437199]]\n",
      "9 day input [0.03907867 0.03992902 0.04214729 0.04373706 0.04425466 0.0480627\n",
      " 0.05175983 0.0538672  0.05261017 0.05238835 0.05268412 0.05175983\n",
      " 0.05053978 0.04898699 0.05423691 0.0591541  0.07394262 0.08196539\n",
      " 0.08255694 0.08011683 0.09242828 0.08751109 0.08381396 0.12817953\n",
      " 0.11830819 0.1016711  0.10045105 0.09734546 0.08625407 0.08381396\n",
      " 0.08011683 0.08196539 0.09242828 0.08566253 0.08104111 0.07579119\n",
      " 0.07516267 0.07516267 0.07331411 0.06776841 0.06776841 0.07024549\n",
      " 0.07054126 0.06902544 0.06625259 0.06407128 0.06407128 0.06717687\n",
      " 0.06902544 0.06776841 0.06869269 0.06902544 0.06839692 0.06839692\n",
      " 0.0676575  0.08096717 0.08022774 0.08799172 0.08762201 0.08799172\n",
      " 0.07763975 0.07579119 0.07135463 0.07763975 0.07727004 0.08429459\n",
      " 0.08244602 0.07948832 0.07800946 0.07763975 0.07579119 0.06913635\n",
      " 0.06839692 0.06654836 0.06359065 0.05730553 0.06137238 0.05878438\n",
      " 0.06285123 0.06100266 0.06137238 0.0621118  0.06322094 0.06654836\n",
      " 0.0621118  0.0621118  0.06285123 0.06506951 0.06987578 0.07098492\n",
      " 0.07283348 0.08621977 0.08825966 0.0910963  0.09451821 0.09829984\n",
      " 0.10226572 0.10630212 0.11034679 0.11437199]\n"
     ]
    },
    {
     "name": "stdout",
     "output_type": "stream",
     "text": [
      "9 day output [[0.11836985]]\n",
      "10 day input [0.03992902 0.04214729 0.04373706 0.04425466 0.0480627  0.05175983\n",
      " 0.0538672  0.05261017 0.05238835 0.05268412 0.05175983 0.05053978\n",
      " 0.04898699 0.05423691 0.0591541  0.07394262 0.08196539 0.08255694\n",
      " 0.08011683 0.09242828 0.08751109 0.08381396 0.12817953 0.11830819\n",
      " 0.1016711  0.10045105 0.09734546 0.08625407 0.08381396 0.08011683\n",
      " 0.08196539 0.09242828 0.08566253 0.08104111 0.07579119 0.07516267\n",
      " 0.07516267 0.07331411 0.06776841 0.06776841 0.07024549 0.07054126\n",
      " 0.06902544 0.06625259 0.06407128 0.06407128 0.06717687 0.06902544\n",
      " 0.06776841 0.06869269 0.06902544 0.06839692 0.06839692 0.0676575\n",
      " 0.08096717 0.08022774 0.08799172 0.08762201 0.08799172 0.07763975\n",
      " 0.07579119 0.07135463 0.07763975 0.07727004 0.08429459 0.08244602\n",
      " 0.07948832 0.07800946 0.07763975 0.07579119 0.06913635 0.06839692\n",
      " 0.06654836 0.06359065 0.05730553 0.06137238 0.05878438 0.06285123\n",
      " 0.06100266 0.06137238 0.0621118  0.06322094 0.06654836 0.0621118\n",
      " 0.0621118  0.06285123 0.06506951 0.06987578 0.07098492 0.07283348\n",
      " 0.08621977 0.08825966 0.0910963  0.09451821 0.09829984 0.10226572\n",
      " 0.10630212 0.11034679 0.11437199 0.11836985]\n",
      "10 day output [[0.12234171]]\n",
      "11 day input [0.04214729 0.04373706 0.04425466 0.0480627  0.05175983 0.0538672\n",
      " 0.05261017 0.05238835 0.05268412 0.05175983 0.05053978 0.04898699\n",
      " 0.05423691 0.0591541  0.07394262 0.08196539 0.08255694 0.08011683\n",
      " 0.09242828 0.08751109 0.08381396 0.12817953 0.11830819 0.1016711\n",
      " 0.10045105 0.09734546 0.08625407 0.08381396 0.08011683 0.08196539\n",
      " 0.09242828 0.08566253 0.08104111 0.07579119 0.07516267 0.07516267\n",
      " 0.07331411 0.06776841 0.06776841 0.07024549 0.07054126 0.06902544\n",
      " 0.06625259 0.06407128 0.06407128 0.06717687 0.06902544 0.06776841\n",
      " 0.06869269 0.06902544 0.06839692 0.06839692 0.0676575  0.08096717\n",
      " 0.08022774 0.08799172 0.08762201 0.08799172 0.07763975 0.07579119\n",
      " 0.07135463 0.07763975 0.07727004 0.08429459 0.08244602 0.07948832\n",
      " 0.07800946 0.07763975 0.07579119 0.06913635 0.06839692 0.06654836\n",
      " 0.06359065 0.05730553 0.06137238 0.05878438 0.06285123 0.06100266\n",
      " 0.06137238 0.0621118  0.06322094 0.06654836 0.0621118  0.0621118\n",
      " 0.06285123 0.06506951 0.06987578 0.07098492 0.07283348 0.08621977\n",
      " 0.08825966 0.0910963  0.09451821 0.09829984 0.10226572 0.10630212\n",
      " 0.11034679 0.11437199 0.11836985 0.12234171]\n",
      "11 day output [[0.12629175]]\n",
      "12 day input [0.04373706 0.04425466 0.0480627  0.05175983 0.0538672  0.05261017\n",
      " 0.05238835 0.05268412 0.05175983 0.05053978 0.04898699 0.05423691\n",
      " 0.0591541  0.07394262 0.08196539 0.08255694 0.08011683 0.09242828\n",
      " 0.08751109 0.08381396 0.12817953 0.11830819 0.1016711  0.10045105\n",
      " 0.09734546 0.08625407 0.08381396 0.08011683 0.08196539 0.09242828\n",
      " 0.08566253 0.08104111 0.07579119 0.07516267 0.07516267 0.07331411\n",
      " 0.06776841 0.06776841 0.07024549 0.07054126 0.06902544 0.06625259\n",
      " 0.06407128 0.06407128 0.06717687 0.06902544 0.06776841 0.06869269\n",
      " 0.06902544 0.06839692 0.06839692 0.0676575  0.08096717 0.08022774\n",
      " 0.08799172 0.08762201 0.08799172 0.07763975 0.07579119 0.07135463\n",
      " 0.07763975 0.07727004 0.08429459 0.08244602 0.07948832 0.07800946\n",
      " 0.07763975 0.07579119 0.06913635 0.06839692 0.06654836 0.06359065\n",
      " 0.05730553 0.06137238 0.05878438 0.06285123 0.06100266 0.06137238\n",
      " 0.0621118  0.06322094 0.06654836 0.0621118  0.0621118  0.06285123\n",
      " 0.06506951 0.06987578 0.07098492 0.07283348 0.08621977 0.08825966\n",
      " 0.0910963  0.09451821 0.09829984 0.10226572 0.10630212 0.11034679\n",
      " 0.11437199 0.11836985 0.12234171 0.12629175]\n",
      "12 day output [[0.13022397]]\n",
      "13 day input [0.04425466 0.0480627  0.05175983 0.0538672  0.05261017 0.05238835\n",
      " 0.05268412 0.05175983 0.05053978 0.04898699 0.05423691 0.0591541\n",
      " 0.07394262 0.08196539 0.08255694 0.08011683 0.09242828 0.08751109\n",
      " 0.08381396 0.12817953 0.11830819 0.1016711  0.10045105 0.09734546\n",
      " 0.08625407 0.08381396 0.08011683 0.08196539 0.09242828 0.08566253\n",
      " 0.08104111 0.07579119 0.07516267 0.07516267 0.07331411 0.06776841\n",
      " 0.06776841 0.07024549 0.07054126 0.06902544 0.06625259 0.06407128\n",
      " 0.06407128 0.06717687 0.06902544 0.06776841 0.06869269 0.06902544\n",
      " 0.06839692 0.06839692 0.0676575  0.08096717 0.08022774 0.08799172\n",
      " 0.08762201 0.08799172 0.07763975 0.07579119 0.07135463 0.07763975\n",
      " 0.07727004 0.08429459 0.08244602 0.07948832 0.07800946 0.07763975\n",
      " 0.07579119 0.06913635 0.06839692 0.06654836 0.06359065 0.05730553\n",
      " 0.06137238 0.05878438 0.06285123 0.06100266 0.06137238 0.0621118\n",
      " 0.06322094 0.06654836 0.0621118  0.0621118  0.06285123 0.06506951\n",
      " 0.06987578 0.07098492 0.07283348 0.08621977 0.08825966 0.0910963\n",
      " 0.09451821 0.09829984 0.10226572 0.10630212 0.11034679 0.11437199\n",
      " 0.11836985 0.12234171 0.12629175 0.13022397]\n",
      "13 day output [[0.13414094]]\n",
      "14 day input [0.0480627  0.05175983 0.0538672  0.05261017 0.05238835 0.05268412\n",
      " 0.05175983 0.05053978 0.04898699 0.05423691 0.0591541  0.07394262\n",
      " 0.08196539 0.08255694 0.08011683 0.09242828 0.08751109 0.08381396\n",
      " 0.12817953 0.11830819 0.1016711  0.10045105 0.09734546 0.08625407\n",
      " 0.08381396 0.08011683 0.08196539 0.09242828 0.08566253 0.08104111\n",
      " 0.07579119 0.07516267 0.07516267 0.07331411 0.06776841 0.06776841\n",
      " 0.07024549 0.07054126 0.06902544 0.06625259 0.06407128 0.06407128\n",
      " 0.06717687 0.06902544 0.06776841 0.06869269 0.06902544 0.06839692\n",
      " 0.06839692 0.0676575  0.08096717 0.08022774 0.08799172 0.08762201\n",
      " 0.08799172 0.07763975 0.07579119 0.07135463 0.07763975 0.07727004\n",
      " 0.08429459 0.08244602 0.07948832 0.07800946 0.07763975 0.07579119\n",
      " 0.06913635 0.06839692 0.06654836 0.06359065 0.05730553 0.06137238\n",
      " 0.05878438 0.06285123 0.06100266 0.06137238 0.0621118  0.06322094\n",
      " 0.06654836 0.0621118  0.0621118  0.06285123 0.06506951 0.06987578\n",
      " 0.07098492 0.07283348 0.08621977 0.08825966 0.0910963  0.09451821\n",
      " 0.09829984 0.10226572 0.10630212 0.11034679 0.11437199 0.11836985\n",
      " 0.12234171 0.12629175 0.13022397 0.13414094]\n",
      "14 day output [[0.13804372]]\n",
      "15 day input [0.05175983 0.0538672  0.05261017 0.05238835 0.05268412 0.05175983\n",
      " 0.05053978 0.04898699 0.05423691 0.0591541  0.07394262 0.08196539\n",
      " 0.08255694 0.08011683 0.09242828 0.08751109 0.08381396 0.12817953\n",
      " 0.11830819 0.1016711  0.10045105 0.09734546 0.08625407 0.08381396\n",
      " 0.08011683 0.08196539 0.09242828 0.08566253 0.08104111 0.07579119\n",
      " 0.07516267 0.07516267 0.07331411 0.06776841 0.06776841 0.07024549\n",
      " 0.07054126 0.06902544 0.06625259 0.06407128 0.06407128 0.06717687\n",
      " 0.06902544 0.06776841 0.06869269 0.06902544 0.06839692 0.06839692\n",
      " 0.0676575  0.08096717 0.08022774 0.08799172 0.08762201 0.08799172\n",
      " 0.07763975 0.07579119 0.07135463 0.07763975 0.07727004 0.08429459\n",
      " 0.08244602 0.07948832 0.07800946 0.07763975 0.07579119 0.06913635\n",
      " 0.06839692 0.06654836 0.06359065 0.05730553 0.06137238 0.05878438\n",
      " 0.06285123 0.06100266 0.06137238 0.0621118  0.06322094 0.06654836\n",
      " 0.0621118  0.0621118  0.06285123 0.06506951 0.06987578 0.07098492\n",
      " 0.07283348 0.08621977 0.08825966 0.0910963  0.09451821 0.09829984\n",
      " 0.10226572 0.10630212 0.11034679 0.11437199 0.11836985 0.12234171\n",
      " 0.12629175 0.13022397 0.13414094 0.13804372]\n",
      "15 day output [[0.14193219]]\n",
      "16 day input [0.0538672  0.05261017 0.05238835 0.05268412 0.05175983 0.05053978\n",
      " 0.04898699 0.05423691 0.0591541  0.07394262 0.08196539 0.08255694\n",
      " 0.08011683 0.09242828 0.08751109 0.08381396 0.12817953 0.11830819\n",
      " 0.1016711  0.10045105 0.09734546 0.08625407 0.08381396 0.08011683\n",
      " 0.08196539 0.09242828 0.08566253 0.08104111 0.07579119 0.07516267\n",
      " 0.07516267 0.07331411 0.06776841 0.06776841 0.07024549 0.07054126\n",
      " 0.06902544 0.06625259 0.06407128 0.06407128 0.06717687 0.06902544\n",
      " 0.06776841 0.06869269 0.06902544 0.06839692 0.06839692 0.0676575\n",
      " 0.08096717 0.08022774 0.08799172 0.08762201 0.08799172 0.07763975\n",
      " 0.07579119 0.07135463 0.07763975 0.07727004 0.08429459 0.08244602\n",
      " 0.07948832 0.07800946 0.07763975 0.07579119 0.06913635 0.06839692\n",
      " 0.06654836 0.06359065 0.05730553 0.06137238 0.05878438 0.06285123\n",
      " 0.06100266 0.06137238 0.0621118  0.06322094 0.06654836 0.0621118\n",
      " 0.0621118  0.06285123 0.06506951 0.06987578 0.07098492 0.07283348\n",
      " 0.08621977 0.08825966 0.0910963  0.09451821 0.09829984 0.10226572\n",
      " 0.10630212 0.11034679 0.11437199 0.11836985 0.12234171 0.12629175\n",
      " 0.13022397 0.13414094 0.13804372 0.14193219]\n",
      "16 day output [[0.14580542]]\n",
      "17 day input [0.05261017 0.05238835 0.05268412 0.05175983 0.05053978 0.04898699\n",
      " 0.05423691 0.0591541  0.07394262 0.08196539 0.08255694 0.08011683\n",
      " 0.09242828 0.08751109 0.08381396 0.12817953 0.11830819 0.1016711\n",
      " 0.10045105 0.09734546 0.08625407 0.08381396 0.08011683 0.08196539\n",
      " 0.09242828 0.08566253 0.08104111 0.07579119 0.07516267 0.07516267\n",
      " 0.07331411 0.06776841 0.06776841 0.07024549 0.07054126 0.06902544\n",
      " 0.06625259 0.06407128 0.06407128 0.06717687 0.06902544 0.06776841\n",
      " 0.06869269 0.06902544 0.06839692 0.06839692 0.0676575  0.08096717\n",
      " 0.08022774 0.08799172 0.08762201 0.08799172 0.07763975 0.07579119\n",
      " 0.07135463 0.07763975 0.07727004 0.08429459 0.08244602 0.07948832\n",
      " 0.07800946 0.07763975 0.07579119 0.06913635 0.06839692 0.06654836\n",
      " 0.06359065 0.05730553 0.06137238 0.05878438 0.06285123 0.06100266\n",
      " 0.06137238 0.0621118  0.06322094 0.06654836 0.0621118  0.0621118\n",
      " 0.06285123 0.06506951 0.06987578 0.07098492 0.07283348 0.08621977\n",
      " 0.08825966 0.0910963  0.09451821 0.09829984 0.10226572 0.10630212\n",
      " 0.11034679 0.11437199 0.11836985 0.12234171 0.12629175 0.13022397\n",
      " 0.13414094 0.13804372 0.14193219 0.14580542]\n"
     ]
    },
    {
     "name": "stdout",
     "output_type": "stream",
     "text": [
      "17 day output [[0.149662]]\n",
      "18 day input [0.05238835 0.05268412 0.05175983 0.05053978 0.04898699 0.05423691\n",
      " 0.0591541  0.07394262 0.08196539 0.08255694 0.08011683 0.09242828\n",
      " 0.08751109 0.08381396 0.12817953 0.11830819 0.1016711  0.10045105\n",
      " 0.09734546 0.08625407 0.08381396 0.08011683 0.08196539 0.09242828\n",
      " 0.08566253 0.08104111 0.07579119 0.07516267 0.07516267 0.07331411\n",
      " 0.06776841 0.06776841 0.07024549 0.07054126 0.06902544 0.06625259\n",
      " 0.06407128 0.06407128 0.06717687 0.06902544 0.06776841 0.06869269\n",
      " 0.06902544 0.06839692 0.06839692 0.0676575  0.08096717 0.08022774\n",
      " 0.08799172 0.08762201 0.08799172 0.07763975 0.07579119 0.07135463\n",
      " 0.07763975 0.07727004 0.08429459 0.08244602 0.07948832 0.07800946\n",
      " 0.07763975 0.07579119 0.06913635 0.06839692 0.06654836 0.06359065\n",
      " 0.05730553 0.06137238 0.05878438 0.06285123 0.06100266 0.06137238\n",
      " 0.0621118  0.06322094 0.06654836 0.0621118  0.0621118  0.06285123\n",
      " 0.06506951 0.06987578 0.07098492 0.07283348 0.08621977 0.08825966\n",
      " 0.0910963  0.09451821 0.09829984 0.10226572 0.10630212 0.11034679\n",
      " 0.11437199 0.11836985 0.12234171 0.12629175 0.13022397 0.13414094\n",
      " 0.13804372 0.14193219 0.14580542 0.149662  ]\n",
      "18 day output [[0.1535004]]\n",
      "19 day input [0.05268412 0.05175983 0.05053978 0.04898699 0.05423691 0.0591541\n",
      " 0.07394262 0.08196539 0.08255694 0.08011683 0.09242828 0.08751109\n",
      " 0.08381396 0.12817953 0.11830819 0.1016711  0.10045105 0.09734546\n",
      " 0.08625407 0.08381396 0.08011683 0.08196539 0.09242828 0.08566253\n",
      " 0.08104111 0.07579119 0.07516267 0.07516267 0.07331411 0.06776841\n",
      " 0.06776841 0.07024549 0.07054126 0.06902544 0.06625259 0.06407128\n",
      " 0.06407128 0.06717687 0.06902544 0.06776841 0.06869269 0.06902544\n",
      " 0.06839692 0.06839692 0.0676575  0.08096717 0.08022774 0.08799172\n",
      " 0.08762201 0.08799172 0.07763975 0.07579119 0.07135463 0.07763975\n",
      " 0.07727004 0.08429459 0.08244602 0.07948832 0.07800946 0.07763975\n",
      " 0.07579119 0.06913635 0.06839692 0.06654836 0.06359065 0.05730553\n",
      " 0.06137238 0.05878438 0.06285123 0.06100266 0.06137238 0.0621118\n",
      " 0.06322094 0.06654836 0.0621118  0.0621118  0.06285123 0.06506951\n",
      " 0.06987578 0.07098492 0.07283348 0.08621977 0.08825966 0.0910963\n",
      " 0.09451821 0.09829984 0.10226572 0.10630212 0.11034679 0.11437199\n",
      " 0.11836985 0.12234171 0.12629175 0.13022397 0.13414094 0.13804372\n",
      " 0.14193219 0.14580542 0.149662   0.15350039]\n",
      "19 day output [[0.15731889]]\n",
      "20 day input [0.05175983 0.05053978 0.04898699 0.05423691 0.0591541  0.07394262\n",
      " 0.08196539 0.08255694 0.08011683 0.09242828 0.08751109 0.08381396\n",
      " 0.12817953 0.11830819 0.1016711  0.10045105 0.09734546 0.08625407\n",
      " 0.08381396 0.08011683 0.08196539 0.09242828 0.08566253 0.08104111\n",
      " 0.07579119 0.07516267 0.07516267 0.07331411 0.06776841 0.06776841\n",
      " 0.07024549 0.07054126 0.06902544 0.06625259 0.06407128 0.06407128\n",
      " 0.06717687 0.06902544 0.06776841 0.06869269 0.06902544 0.06839692\n",
      " 0.06839692 0.0676575  0.08096717 0.08022774 0.08799172 0.08762201\n",
      " 0.08799172 0.07763975 0.07579119 0.07135463 0.07763975 0.07727004\n",
      " 0.08429459 0.08244602 0.07948832 0.07800946 0.07763975 0.07579119\n",
      " 0.06913635 0.06839692 0.06654836 0.06359065 0.05730553 0.06137238\n",
      " 0.05878438 0.06285123 0.06100266 0.06137238 0.0621118  0.06322094\n",
      " 0.06654836 0.0621118  0.0621118  0.06285123 0.06506951 0.06987578\n",
      " 0.07098492 0.07283348 0.08621977 0.08825966 0.0910963  0.09451821\n",
      " 0.09829984 0.10226572 0.10630212 0.11034679 0.11437199 0.11836985\n",
      " 0.12234171 0.12629175 0.13022397 0.13414094 0.13804372 0.14193219\n",
      " 0.14580542 0.149662   0.15350039 0.15731889]\n",
      "20 day output [[0.1611161]]\n",
      "21 day input [0.05053978 0.04898699 0.05423691 0.0591541  0.07394262 0.08196539\n",
      " 0.08255694 0.08011683 0.09242828 0.08751109 0.08381396 0.12817953\n",
      " 0.11830819 0.1016711  0.10045105 0.09734546 0.08625407 0.08381396\n",
      " 0.08011683 0.08196539 0.09242828 0.08566253 0.08104111 0.07579119\n",
      " 0.07516267 0.07516267 0.07331411 0.06776841 0.06776841 0.07024549\n",
      " 0.07054126 0.06902544 0.06625259 0.06407128 0.06407128 0.06717687\n",
      " 0.06902544 0.06776841 0.06869269 0.06902544 0.06839692 0.06839692\n",
      " 0.0676575  0.08096717 0.08022774 0.08799172 0.08762201 0.08799172\n",
      " 0.07763975 0.07579119 0.07135463 0.07763975 0.07727004 0.08429459\n",
      " 0.08244602 0.07948832 0.07800946 0.07763975 0.07579119 0.06913635\n",
      " 0.06839692 0.06654836 0.06359065 0.05730553 0.06137238 0.05878438\n",
      " 0.06285123 0.06100266 0.06137238 0.0621118  0.06322094 0.06654836\n",
      " 0.0621118  0.0621118  0.06285123 0.06506951 0.06987578 0.07098492\n",
      " 0.07283348 0.08621977 0.08825966 0.0910963  0.09451821 0.09829984\n",
      " 0.10226572 0.10630212 0.11034679 0.11437199 0.11836985 0.12234171\n",
      " 0.12629175 0.13022397 0.13414094 0.13804372 0.14193219 0.14580542\n",
      " 0.149662   0.15350039 0.15731889 0.16111609]\n",
      "21 day output [[0.16489042]]\n",
      "22 day input [0.04898699 0.05423691 0.0591541  0.07394262 0.08196539 0.08255694\n",
      " 0.08011683 0.09242828 0.08751109 0.08381396 0.12817953 0.11830819\n",
      " 0.1016711  0.10045105 0.09734546 0.08625407 0.08381396 0.08011683\n",
      " 0.08196539 0.09242828 0.08566253 0.08104111 0.07579119 0.07516267\n",
      " 0.07516267 0.07331411 0.06776841 0.06776841 0.07024549 0.07054126\n",
      " 0.06902544 0.06625259 0.06407128 0.06407128 0.06717687 0.06902544\n",
      " 0.06776841 0.06869269 0.06902544 0.06839692 0.06839692 0.0676575\n",
      " 0.08096717 0.08022774 0.08799172 0.08762201 0.08799172 0.07763975\n",
      " 0.07579119 0.07135463 0.07763975 0.07727004 0.08429459 0.08244602\n",
      " 0.07948832 0.07800946 0.07763975 0.07579119 0.06913635 0.06839692\n",
      " 0.06654836 0.06359065 0.05730553 0.06137238 0.05878438 0.06285123\n",
      " 0.06100266 0.06137238 0.0621118  0.06322094 0.06654836 0.0621118\n",
      " 0.0621118  0.06285123 0.06506951 0.06987578 0.07098492 0.07283348\n",
      " 0.08621977 0.08825966 0.0910963  0.09451821 0.09829984 0.10226572\n",
      " 0.10630212 0.11034679 0.11437199 0.11836985 0.12234171 0.12629175\n",
      " 0.13022397 0.13414094 0.13804372 0.14193219 0.14580542 0.149662\n",
      " 0.15350039 0.15731889 0.16111609 0.16489042]\n",
      "22 day output [[0.16864057]]\n",
      "23 day input [0.05423691 0.0591541  0.07394262 0.08196539 0.08255694 0.08011683\n",
      " 0.09242828 0.08751109 0.08381396 0.12817953 0.11830819 0.1016711\n",
      " 0.10045105 0.09734546 0.08625407 0.08381396 0.08011683 0.08196539\n",
      " 0.09242828 0.08566253 0.08104111 0.07579119 0.07516267 0.07516267\n",
      " 0.07331411 0.06776841 0.06776841 0.07024549 0.07054126 0.06902544\n",
      " 0.06625259 0.06407128 0.06407128 0.06717687 0.06902544 0.06776841\n",
      " 0.06869269 0.06902544 0.06839692 0.06839692 0.0676575  0.08096717\n",
      " 0.08022774 0.08799172 0.08762201 0.08799172 0.07763975 0.07579119\n",
      " 0.07135463 0.07763975 0.07727004 0.08429459 0.08244602 0.07948832\n",
      " 0.07800946 0.07763975 0.07579119 0.06913635 0.06839692 0.06654836\n",
      " 0.06359065 0.05730553 0.06137238 0.05878438 0.06285123 0.06100266\n",
      " 0.06137238 0.0621118  0.06322094 0.06654836 0.0621118  0.0621118\n",
      " 0.06285123 0.06506951 0.06987578 0.07098492 0.07283348 0.08621977\n",
      " 0.08825966 0.0910963  0.09451821 0.09829984 0.10226572 0.10630212\n",
      " 0.11034679 0.11437199 0.11836985 0.12234171 0.12629175 0.13022397\n",
      " 0.13414094 0.13804372 0.14193219 0.14580542 0.149662   0.15350039\n",
      " 0.15731889 0.16111609 0.16489042 0.16864057]\n",
      "23 day output [[0.17236537]]\n",
      "24 day input [0.0591541  0.07394262 0.08196539 0.08255694 0.08011683 0.09242828\n",
      " 0.08751109 0.08381396 0.12817953 0.11830819 0.1016711  0.10045105\n",
      " 0.09734546 0.08625407 0.08381396 0.08011683 0.08196539 0.09242828\n",
      " 0.08566253 0.08104111 0.07579119 0.07516267 0.07516267 0.07331411\n",
      " 0.06776841 0.06776841 0.07024549 0.07054126 0.06902544 0.06625259\n",
      " 0.06407128 0.06407128 0.06717687 0.06902544 0.06776841 0.06869269\n",
      " 0.06902544 0.06839692 0.06839692 0.0676575  0.08096717 0.08022774\n",
      " 0.08799172 0.08762201 0.08799172 0.07763975 0.07579119 0.07135463\n",
      " 0.07763975 0.07727004 0.08429459 0.08244602 0.07948832 0.07800946\n",
      " 0.07763975 0.07579119 0.06913635 0.06839692 0.06654836 0.06359065\n",
      " 0.05730553 0.06137238 0.05878438 0.06285123 0.06100266 0.06137238\n",
      " 0.0621118  0.06322094 0.06654836 0.0621118  0.0621118  0.06285123\n",
      " 0.06506951 0.06987578 0.07098492 0.07283348 0.08621977 0.08825966\n",
      " 0.0910963  0.09451821 0.09829984 0.10226572 0.10630212 0.11034679\n",
      " 0.11437199 0.11836985 0.12234171 0.12629175 0.13022397 0.13414094\n",
      " 0.13804372 0.14193219 0.14580542 0.149662   0.15350039 0.15731889\n",
      " 0.16111609 0.16489042 0.16864057 0.17236537]\n",
      "24 day output [[0.17606376]]\n",
      "25 day input [0.07394262 0.08196539 0.08255694 0.08011683 0.09242828 0.08751109\n",
      " 0.08381396 0.12817953 0.11830819 0.1016711  0.10045105 0.09734546\n",
      " 0.08625407 0.08381396 0.08011683 0.08196539 0.09242828 0.08566253\n",
      " 0.08104111 0.07579119 0.07516267 0.07516267 0.07331411 0.06776841\n",
      " 0.06776841 0.07024549 0.07054126 0.06902544 0.06625259 0.06407128\n",
      " 0.06407128 0.06717687 0.06902544 0.06776841 0.06869269 0.06902544\n",
      " 0.06839692 0.06839692 0.0676575  0.08096717 0.08022774 0.08799172\n",
      " 0.08762201 0.08799172 0.07763975 0.07579119 0.07135463 0.07763975\n",
      " 0.07727004 0.08429459 0.08244602 0.07948832 0.07800946 0.07763975\n",
      " 0.07579119 0.06913635 0.06839692 0.06654836 0.06359065 0.05730553\n",
      " 0.06137238 0.05878438 0.06285123 0.06100266 0.06137238 0.0621118\n",
      " 0.06322094 0.06654836 0.0621118  0.0621118  0.06285123 0.06506951\n",
      " 0.06987578 0.07098492 0.07283348 0.08621977 0.08825966 0.0910963\n",
      " 0.09451821 0.09829984 0.10226572 0.10630212 0.11034679 0.11437199\n",
      " 0.11836985 0.12234171 0.12629175 0.13022397 0.13414094 0.13804372\n",
      " 0.14193219 0.14580542 0.149662   0.15350039 0.15731889 0.16111609\n",
      " 0.16489042 0.16864057 0.17236537 0.17606376]\n"
     ]
    },
    {
     "name": "stdout",
     "output_type": "stream",
     "text": [
      "25 day output [[0.1797348]]\n",
      "26 day input [0.08196539 0.08255694 0.08011683 0.09242828 0.08751109 0.08381396\n",
      " 0.12817953 0.11830819 0.1016711  0.10045105 0.09734546 0.08625407\n",
      " 0.08381396 0.08011683 0.08196539 0.09242828 0.08566253 0.08104111\n",
      " 0.07579119 0.07516267 0.07516267 0.07331411 0.06776841 0.06776841\n",
      " 0.07024549 0.07054126 0.06902544 0.06625259 0.06407128 0.06407128\n",
      " 0.06717687 0.06902544 0.06776841 0.06869269 0.06902544 0.06839692\n",
      " 0.06839692 0.0676575  0.08096717 0.08022774 0.08799172 0.08762201\n",
      " 0.08799172 0.07763975 0.07579119 0.07135463 0.07763975 0.07727004\n",
      " 0.08429459 0.08244602 0.07948832 0.07800946 0.07763975 0.07579119\n",
      " 0.06913635 0.06839692 0.06654836 0.06359065 0.05730553 0.06137238\n",
      " 0.05878438 0.06285123 0.06100266 0.06137238 0.0621118  0.06322094\n",
      " 0.06654836 0.0621118  0.0621118  0.06285123 0.06506951 0.06987578\n",
      " 0.07098492 0.07283348 0.08621977 0.08825966 0.0910963  0.09451821\n",
      " 0.09829984 0.10226572 0.10630212 0.11034679 0.11437199 0.11836985\n",
      " 0.12234171 0.12629175 0.13022397 0.13414094 0.13804372 0.14193219\n",
      " 0.14580542 0.149662   0.15350039 0.15731889 0.16111609 0.16489042\n",
      " 0.16864057 0.17236537 0.17606376 0.1797348 ]\n",
      "26 day output [[0.18337777]]\n",
      "27 day input [0.08255694 0.08011683 0.09242828 0.08751109 0.08381396 0.12817953\n",
      " 0.11830819 0.1016711  0.10045105 0.09734546 0.08625407 0.08381396\n",
      " 0.08011683 0.08196539 0.09242828 0.08566253 0.08104111 0.07579119\n",
      " 0.07516267 0.07516267 0.07331411 0.06776841 0.06776841 0.07024549\n",
      " 0.07054126 0.06902544 0.06625259 0.06407128 0.06407128 0.06717687\n",
      " 0.06902544 0.06776841 0.06869269 0.06902544 0.06839692 0.06839692\n",
      " 0.0676575  0.08096717 0.08022774 0.08799172 0.08762201 0.08799172\n",
      " 0.07763975 0.07579119 0.07135463 0.07763975 0.07727004 0.08429459\n",
      " 0.08244602 0.07948832 0.07800946 0.07763975 0.07579119 0.06913635\n",
      " 0.06839692 0.06654836 0.06359065 0.05730553 0.06137238 0.05878438\n",
      " 0.06285123 0.06100266 0.06137238 0.0621118  0.06322094 0.06654836\n",
      " 0.0621118  0.0621118  0.06285123 0.06506951 0.06987578 0.07098492\n",
      " 0.07283348 0.08621977 0.08825966 0.0910963  0.09451821 0.09829984\n",
      " 0.10226572 0.10630212 0.11034679 0.11437199 0.11836985 0.12234171\n",
      " 0.12629175 0.13022397 0.13414094 0.13804372 0.14193219 0.14580542\n",
      " 0.149662   0.15350039 0.15731889 0.16111609 0.16489042 0.16864057\n",
      " 0.17236537 0.17606376 0.1797348  0.18337777]\n",
      "27 day output [[0.18699199]]\n",
      "28 day input [0.08011683 0.09242828 0.08751109 0.08381396 0.12817953 0.11830819\n",
      " 0.1016711  0.10045105 0.09734546 0.08625407 0.08381396 0.08011683\n",
      " 0.08196539 0.09242828 0.08566253 0.08104111 0.07579119 0.07516267\n",
      " 0.07516267 0.07331411 0.06776841 0.06776841 0.07024549 0.07054126\n",
      " 0.06902544 0.06625259 0.06407128 0.06407128 0.06717687 0.06902544\n",
      " 0.06776841 0.06869269 0.06902544 0.06839692 0.06839692 0.0676575\n",
      " 0.08096717 0.08022774 0.08799172 0.08762201 0.08799172 0.07763975\n",
      " 0.07579119 0.07135463 0.07763975 0.07727004 0.08429459 0.08244602\n",
      " 0.07948832 0.07800946 0.07763975 0.07579119 0.06913635 0.06839692\n",
      " 0.06654836 0.06359065 0.05730553 0.06137238 0.05878438 0.06285123\n",
      " 0.06100266 0.06137238 0.0621118  0.06322094 0.06654836 0.0621118\n",
      " 0.0621118  0.06285123 0.06506951 0.06987578 0.07098492 0.07283348\n",
      " 0.08621977 0.08825966 0.0910963  0.09451821 0.09829984 0.10226572\n",
      " 0.10630212 0.11034679 0.11437199 0.11836985 0.12234171 0.12629175\n",
      " 0.13022397 0.13414094 0.13804372 0.14193219 0.14580542 0.149662\n",
      " 0.15350039 0.15731889 0.16111609 0.16489042 0.16864057 0.17236537\n",
      " 0.17606376 0.1797348  0.18337777 0.18699199]\n",
      "28 day output [[0.19057705]]\n",
      "29 day input [0.09242828 0.08751109 0.08381396 0.12817953 0.11830819 0.1016711\n",
      " 0.10045105 0.09734546 0.08625407 0.08381396 0.08011683 0.08196539\n",
      " 0.09242828 0.08566253 0.08104111 0.07579119 0.07516267 0.07516267\n",
      " 0.07331411 0.06776841 0.06776841 0.07024549 0.07054126 0.06902544\n",
      " 0.06625259 0.06407128 0.06407128 0.06717687 0.06902544 0.06776841\n",
      " 0.06869269 0.06902544 0.06839692 0.06839692 0.0676575  0.08096717\n",
      " 0.08022774 0.08799172 0.08762201 0.08799172 0.07763975 0.07579119\n",
      " 0.07135463 0.07763975 0.07727004 0.08429459 0.08244602 0.07948832\n",
      " 0.07800946 0.07763975 0.07579119 0.06913635 0.06839692 0.06654836\n",
      " 0.06359065 0.05730553 0.06137238 0.05878438 0.06285123 0.06100266\n",
      " 0.06137238 0.0621118  0.06322094 0.06654836 0.0621118  0.0621118\n",
      " 0.06285123 0.06506951 0.06987578 0.07098492 0.07283348 0.08621977\n",
      " 0.08825966 0.0910963  0.09451821 0.09829984 0.10226572 0.10630212\n",
      " 0.11034679 0.11437199 0.11836985 0.12234171 0.12629175 0.13022397\n",
      " 0.13414094 0.13804372 0.14193219 0.14580542 0.149662   0.15350039\n",
      " 0.15731889 0.16111609 0.16489042 0.16864057 0.17236537 0.17606376\n",
      " 0.1797348  0.18337777 0.18699199 0.19057705]\n",
      "29 day output [[0.19413239]]\n",
      "[[0.08621976524591446], [0.08825965970754623], [0.09109630435705185], [0.09451821446418762], [0.09829983860254288], [0.10226572304964066], [0.10630211979150772], [0.11034678667783737], [0.11437199264764786], [0.11836985498666763], [0.12234170734882355], [0.12629175186157227], [0.13022397458553314], [0.13414093852043152], [0.13804371654987335], [0.1419321894645691], [0.14580541849136353], [0.14966200292110443], [0.15350039303302765], [0.15731889009475708], [0.1611160933971405], [0.16489042341709137], [0.16864056885242462], [0.17236536741256714], [0.17606376111507416], [0.17973479628562927], [0.18337777256965637], [0.18699198961257935], [0.19057704508304596], [0.19413238763809204]]\n"
     ]
    }
   ],
   "source": [
    "# Demonstrate prediction for next 10 days\n",
    "from numpy import array\n",
    "\n",
    "lst_output = []\n",
    "n_steps = 100\n",
    "i = 0\n",
    "\n",
    "while (i < 30):\n",
    "    \n",
    "    if (len(temp_input) > 100):\n",
    "#         print(temp_input)\n",
    "        x_input = np.array(temp_input[1:])\n",
    "        print(\"{} day input {}\".format(i, x_input))\n",
    "        x_input = x_input.reshape(1, -1)\n",
    "        x_input = x_input.reshape(1, n_steps, 1)\n",
    "        # print(x_input)\n",
    "        yhat = model.predict(x_input, verbose=0)\n",
    "        print(\"{} day output {}\".format(i, yhat))\n",
    "        temp_input.extend(yhat[0].tolist())\n",
    "        temp_input = temp_input[1:]\n",
    "        # print(temp_input)\n",
    "        lst_output.extend(yhat.tolist())\n",
    "        i = i + 1\n",
    "    else:\n",
    "        x_input = x_input.reshape((1, n_steps, 1))\n",
    "        yhat = model.predict(x_input, verbose = 0)\n",
    "        print(yhat[0])\n",
    "        temp_input.extend(yhat[0].tolist())\n",
    "        print(len(temp_input))\n",
    "        lst_output.extend(yhat.tolist())\n",
    "        i = i + 1\n",
    "        \n",
    "print(lst_output)"
   ]
  },
  {
   "cell_type": "code",
   "execution_count": 72,
   "metadata": {},
   "outputs": [],
   "source": [
    "# 100 element with newly predicted day\n",
    "day_new = np.arange(1, 101)\n",
    "#next thirty days\n",
    "day_pred = np.arange(101, 131)"
   ]
  },
  {
   "cell_type": "code",
   "execution_count": 73,
   "metadata": {},
   "outputs": [],
   "source": [
    "import matplotlib.pyplot as plt"
   ]
  },
  {
   "cell_type": "code",
   "execution_count": 74,
   "metadata": {},
   "outputs": [
    {
     "data": {
      "text/plain": [
       "2694"
      ]
     },
     "execution_count": 74,
     "metadata": {},
     "output_type": "execute_result"
    }
   ],
   "source": [
    "len(df1)"
   ]
  },
  {
   "cell_type": "code",
   "execution_count": 75,
   "metadata": {},
   "outputs": [],
   "source": [
    "df3 = df1.tolist()\n",
    "df3.extend(lst_output)"
   ]
  },
  {
   "cell_type": "code",
   "execution_count": 76,
   "metadata": {},
   "outputs": [
    {
     "data": {
      "text/plain": [
       "[<matplotlib.lines.Line2D at 0x27936b76d90>]"
      ]
     },
     "execution_count": 76,
     "metadata": {},
     "output_type": "execute_result"
    },
    {
     "data": {
      "image/png": "[encoded data removed]",
      "text/plain": [
       "<Figure size 432x288 with 1 Axes>"
      ]
     },
     "metadata": {
      "needs_background": "light"
     },
     "output_type": "display_data"
    }
   ],
   "source": [
    "plt.plot(day_new, scaler.inverse_transform(df1[len(df1)-100:]))\n",
    "plt.plot(day_pred, scaler.inverse_transform(lst_output))"
   ]
  },
  {
   "cell_type": "code",
   "execution_count": 77,
   "metadata": {},
   "outputs": [
    {
     "data": {
      "text/plain": [
       "[<matplotlib.lines.Line2D at 0x27938bfed90>]"
      ]
     },
     "execution_count": 77,
     "metadata": {},
     "output_type": "execute_result"
    },
    {
     "data": {
      "image/png": "[encoded data removed]",
      "text/plain": [
       "<Figure size 432x288 with 1 Axes>"
      ]
     },
     "metadata": {
      "needs_background": "light"
     },
     "output_type": "display_data"
    }
   ],
   "source": [
    "df3 = df1.tolist()\n",
    "df3.extend(lst_output)\n",
    "plt.plot(df3[1000:])"
   ]
  },
  {
   "cell_type": "code",
   "execution_count": null,
   "metadata": {},
   "outputs": [],
   "source": []
  }
 ],
 "metadata": {
  "kernelspec": {
   "display_name": "Python 3",
   "language": "python",
   "name": "python3"
  },
  "language_info": {
   "codemirror_mode": {
    "name": "ipython",
    "version": 3
   },
   "file_extension": ".py",
   "mimetype": "text/x-python",
   "name": "python",
   "nbconvert_exporter": "python",
   "pygments_lexer": "ipython3",
   "version": "3.8.5"
  }
 },
 "nbformat": 4,
 "nbformat_minor": 4
}
